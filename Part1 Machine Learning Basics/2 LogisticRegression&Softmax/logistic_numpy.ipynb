{
 "cells": [
  {
   "cell_type": "markdown",
   "metadata": {
    "collapsed": true,
    "pycharm": {
     "name": "#%% md\n"
    }
   },
   "source": [
    "# 逻辑回归实现\n",
    "> numpy实现\n",
    "> 使用a9a.txt的是数据集做二分类"
   ]
  },
  {
   "cell_type": "code",
   "execution_count": 8,
   "outputs": [],
   "source": [
    "import random\n",
    "from sklearn.datasets import load_svmlight_file\n",
    "import numpy as np\n",
    "import matplotlib.pyplot as plt\n",
    "from utils import Accumulator"
   ],
   "metadata": {
    "collapsed": false,
    "pycharm": {
     "name": "#%%\n"
    }
   }
  },
  {
   "cell_type": "markdown",
   "source": [
    "## 读取数据集\n",
    "> 使用train_test_split函数"
   ],
   "metadata": {
    "collapsed": false,
    "pycharm": {
     "name": "#%% md\n"
    }
   }
  },
  {
   "cell_type": "code",
   "execution_count": 9,
   "outputs": [],
   "source": [
    "x_val, y_val = load_svmlight_file('./a9a.txt', n_features=123)\n",
    "x_train, y_train = load_svmlight_file('./a9a_train.txt', n_features=123)\n"
   ],
   "metadata": {
    "collapsed": false,
    "pycharm": {
     "name": "#%%\n"
    }
   }
  },
  {
   "cell_type": "markdown",
   "source": [
    "## 数据预处理\n",
    "观察可以看到分类为-1,1\n",
    "\n",
    "为了方便损失函数的计算我们把-1转变成0"
   ],
   "metadata": {
    "collapsed": false,
    "pycharm": {
     "name": "#%% md\n"
    }
   }
  },
  {
   "cell_type": "code",
   "execution_count": 10,
   "outputs": [],
   "source": [
    "# 简单预处理\n",
    "y_val[y_val == -1] = 0\n",
    "y_train[y_train == -1] = 0\n",
    "\n",
    "# 转换成为np\n",
    "x_train = np.array(x_train.todense())\n",
    "x_val = np.array(x_val.todense())\n",
    "y_train = np.array(y_train).reshape(len(y_train), 1)\n",
    "y_val = np.array(y_val).reshape(len(y_val), 1)"
   ],
   "metadata": {
    "collapsed": false,
    "pycharm": {
     "name": "#%%\n"
    }
   }
  },
  {
   "cell_type": "markdown",
   "source": [
    "## 参数设置"
   ],
   "metadata": {
    "collapsed": false,
    "pycharm": {
     "name": "#%% md\n"
    }
   }
  },
  {
   "cell_type": "code",
   "execution_count": 11,
   "outputs": [
    {
     "data": {
      "text/plain": "array([[0., 0., 1., ..., 0., 0., 1.],\n       [0., 0., 0., ..., 0., 0., 1.],\n       [0., 0., 1., ..., 0., 0., 1.],\n       ...,\n       [0., 0., 0., ..., 0., 0., 1.],\n       [1., 0., 0., ..., 0., 0., 1.],\n       [0., 0., 0., ..., 0., 0., 1.]])"
     },
     "execution_count": 11,
     "metadata": {},
     "output_type": "execute_result"
    }
   ],
   "source": [
    "\n",
    "\n",
    "# 插入偏置量\n",
    "b = np.ones(x_train.shape[0])\n",
    "x_train = np.insert(x_train, 123, values=b, axis=1)\n",
    "\n",
    "b = np.ones(x_val.shape[0])\n",
    "x_val = np.insert(x_val, 123, values=b, axis=1)\n",
    "\n",
    "# 超参数\n",
    "theta = np.random.normal(size=(x_train.shape[1], 1))\n",
    "\n",
    "x_train"
   ],
   "metadata": {
    "collapsed": false,
    "pycharm": {
     "name": "#%%\n"
    }
   }
  },
  {
   "cell_type": "markdown",
   "source": [
    "## 定义损失函数"
   ],
   "metadata": {
    "collapsed": false,
    "pycharm": {
     "name": "#%% md\n"
    }
   }
  },
  {
   "cell_type": "code",
   "execution_count": 12,
   "outputs": [],
   "source": [
    "def sigmoid(z):\n",
    "    \"\"\"sigmoid函数\"\"\"\n",
    "    return 1 / (1 + np.exp(-z))\n",
    "\n",
    "def logisreg(x, w):\n",
    "    \"\"\"逻辑回归模型\"\"\"\n",
    "    return x @ w\n",
    "\n",
    "def cost(model, y):\n",
    "    \"\"\"损失函数（交叉熵）\"\"\"\n",
    "    model = model.reshape(y.shape)\n",
    "    first = -y.T @ np.log(sigmoid(model))\n",
    "    second = (1 - y).T @ np.log(1 - sigmoid(model))\n",
    "    return (first - second) / len(y)\n",
    "\n",
    "def step_gradient(w_cur, x_value, y_value, lr):\n",
    "    \"\"\"\n",
    "    梯度下降\n",
    "    :param w_cur:\n",
    "    :param x_value:\n",
    "    :param y_value:\n",
    "    :param lr: 学习率\n",
    "    :return: 更新后的w参数\n",
    "    \"\"\"\n",
    "    grad = 1 / len(y_value) * x_value.T @ (sigmoid(x_value @ w_cur) - y_value)\n",
    "    new_w = w_cur - lr * grad\n",
    "    return new_w\n",
    "\n"
   ],
   "metadata": {
    "collapsed": false,
    "pycharm": {
     "name": "#%%\n"
    }
   }
  },
  {
   "cell_type": "markdown",
   "source": [
    "## 计算准确性函数"
   ],
   "metadata": {
    "collapsed": false,
    "pycharm": {
     "name": "#%% md\n"
    }
   }
  },
  {
   "cell_type": "code",
   "execution_count": 13,
   "outputs": [],
   "source": [
    "# 预测检验\n",
    "def accuracy(y_hat, y, threshold=0.7):  # 阈值设置为0.7\n",
    "    \"\"\"计算预测正确数量\"\"\"\n",
    "    if len(y_hat.shape) > 1:\n",
    "        y_hat = sigmoid(y_hat)\n",
    "    y_hat[y_hat <= 0.7] = 0.\n",
    "    y_hat[y_hat > 0.7] = 1.\n",
    "    cmp = y_hat == y\n",
    "    return float(cmp.sum())\n",
    "\n",
    "\n",
    "# 评估任意模型net的准确率\n",
    "def evaluate_accuracy(model, y):\n",
    "    \"\"\"计算在指定数据集上模型的精度\"\"\"\n",
    "    metric = Accumulator(2)  # 正确预测数, 预测总数\n",
    "    metric.add(accuracy(model, y), len(y))\n",
    "    return metric[0] / metric[1]\n",
    "\n",
    "def data_iter(batch_size, features, labels):\n",
    "    num_examples = len(features)  # 样本数\n",
    "    # 这些样本是随机读取的\n",
    "    indices = list(range(num_examples))\n",
    "    random.shuffle(indices)\n",
    "    for i in range(0, num_examples, batch_size):\n",
    "        batch_indices = np.array(\n",
    "            indices[i: min(i + batch_size, num_examples)])\n",
    "        yield features[batch_indices], labels[batch_indices]\n"
   ],
   "metadata": {
    "collapsed": false,
    "pycharm": {
     "name": "#%%\n"
    }
   }
  },
  {
   "cell_type": "markdown",
   "source": [
    "## 训练模型"
   ],
   "metadata": {
    "collapsed": false,
    "pycharm": {
     "name": "#%% md\n"
    }
   }
  },
  {
   "cell_type": "code",
   "execution_count": 14,
   "outputs": [
    {
     "name": "stdout",
     "output_type": "stream",
     "text": [
      "epoch 1, loss_train: 1.097437\n",
      "epoch 1, loss_val: 1.167285\n",
      "epoch 1, accuracy: 0.582274\n",
      "=================================================================================\n",
      "epoch 2, loss_train: 0.798170\n",
      "epoch 2, loss_val: 0.816398\n",
      "epoch 2, accuracy: 0.696517\n",
      "=================================================================================\n",
      "epoch 3, loss_train: 0.737343\n",
      "epoch 3, loss_val: 0.744254\n",
      "epoch 3, accuracy: 0.722621\n",
      "=================================================================================\n",
      "epoch 4, loss_train: 0.755360\n",
      "epoch 4, loss_val: 0.711879\n",
      "epoch 4, accuracy: 0.734599\n",
      "=================================================================================\n",
      "epoch 5, loss_train: 0.733534\n",
      "epoch 5, loss_val: 0.688250\n",
      "epoch 5, accuracy: 0.740434\n",
      "=================================================================================\n",
      "epoch 6, loss_train: 0.734689\n",
      "epoch 6, loss_val: 0.668116\n",
      "epoch 6, accuracy: 0.744733\n",
      "=================================================================================\n",
      "epoch 7, loss_train: 0.654689\n",
      "epoch 7, loss_val: 0.650315\n",
      "epoch 7, accuracy: 0.747927\n",
      "=================================================================================\n",
      "epoch 8, loss_train: 0.687969\n",
      "epoch 8, loss_val: 0.634325\n",
      "epoch 8, accuracy: 0.752042\n",
      "=================================================================================\n",
      "epoch 9, loss_train: 0.551516\n",
      "epoch 9, loss_val: 0.619888\n",
      "epoch 9, accuracy: 0.755789\n",
      "=================================================================================\n",
      "epoch 10, loss_train: 0.649304\n",
      "epoch 10, loss_val: 0.606774\n",
      "epoch 10, accuracy: 0.757877\n",
      "=================================================================================\n",
      "epoch 11, loss_train: 0.570314\n",
      "epoch 11, loss_val: 0.594810\n",
      "epoch 11, accuracy: 0.760396\n",
      "=================================================================================\n",
      "epoch 12, loss_train: 0.619795\n",
      "epoch 12, loss_val: 0.583830\n",
      "epoch 12, accuracy: 0.762361\n",
      "=================================================================================\n",
      "epoch 13, loss_train: 0.563811\n",
      "epoch 13, loss_val: 0.573734\n",
      "epoch 13, accuracy: 0.764879\n",
      "=================================================================================\n",
      "epoch 14, loss_train: 0.627496\n",
      "epoch 14, loss_val: 0.564400\n",
      "epoch 14, accuracy: 0.767336\n",
      "=================================================================================\n",
      "epoch 15, loss_train: 0.563628\n",
      "epoch 15, loss_val: 0.555747\n",
      "epoch 15, accuracy: 0.769240\n",
      "=================================================================================\n",
      "epoch 16, loss_train: 0.649257\n",
      "epoch 16, loss_val: 0.547664\n",
      "epoch 16, accuracy: 0.771083\n",
      "=================================================================================\n",
      "epoch 17, loss_train: 0.565347\n",
      "epoch 17, loss_val: 0.540136\n",
      "epoch 17, accuracy: 0.773294\n",
      "=================================================================================\n",
      "epoch 18, loss_train: 0.535590\n",
      "epoch 18, loss_val: 0.533114\n",
      "epoch 18, accuracy: 0.776181\n",
      "=================================================================================\n",
      "epoch 19, loss_train: 0.507941\n",
      "epoch 19, loss_val: 0.526536\n",
      "epoch 19, accuracy: 0.777901\n",
      "=================================================================================\n",
      "epoch 20, loss_train: 0.527065\n",
      "epoch 20, loss_val: 0.520335\n",
      "epoch 20, accuracy: 0.779866\n",
      "=================================================================================\n"
     ]
    },
    {
     "data": {
      "text/plain": "<Figure size 432x288 with 1 Axes>",
      "image/png": "[encoded data removed]"
     },
     "metadata": {
      "needs_background": "light"
     },
     "output_type": "display_data"
    }
   ],
   "source": [
    "lr = 0.03  # 学习率\n",
    "num_epochs = 20  # 迭代次数\n",
    "model =logisreg  # 模型\n",
    "loss = cost  # 损失函数\n",
    "batch_size = 1000  # 批量大小\n",
    "\n",
    "l_train_list = []\n",
    "l_val_list = []\n",
    "acc_list = []"
   ],
   "metadata": {
    "collapsed": false,
    "pycharm": {
     "name": "#%%\n"
    }
   }
  },
  {
   "cell_type": "code",
   "execution_count": null,
   "outputs": [],
   "source": [
    "for epoch in range(num_epochs):\n",
    "    for X, y in data_iter(batch_size, x_train, y_train):\n",
    "        l_train = loss(model(X, theta), y).sum()   # 计算损失函数\n",
    "        theta = step_gradient(theta, X, y, lr)\n",
    "    # 验证\n",
    "    l_val = loss(model(x_val, theta), y_val).sum()\n",
    "    acc = evaluate_accuracy(model(x_val, theta), y_val)\n",
    "    l_train_list.append(l_train)\n",
    "    l_val_list.append(l_val)\n",
    "    acc_list.append(acc)\n",
    "    print(f'epoch {epoch + 1}, loss_train: {l_train:f}')  # 训练集损失函数值\n",
    "    print(f'epoch {epoch + 1}, loss_val: {l_val:f}')  # 验证集瞬时函数值\n",
    "    print(f'epoch {epoch + 1}, accuracy: {acc:f}')  # 验证集准确度\n",
    "    print(\"=================================================================================\")"
   ],
   "metadata": {
    "collapsed": false,
    "pycharm": {
     "name": "#%%\n"
    }
   }
  },
  {
   "cell_type": "markdown",
   "source": [
    "## 可视化\n",
    "* 损失函数值"
   ],
   "metadata": {
    "collapsed": false,
    "pycharm": {
     "name": "#%% md\n"
    }
   }
  },
  {
   "cell_type": "code",
   "execution_count": null,
   "outputs": [],
   "source": [
    "# 打印损失函数变化\n",
    "plt.plot(range(num_epochs), l_train_list, label=\"train set\")\n",
    "plt.plot(range(num_epochs), l_val_list, label=\"val set\")\n",
    "plt.xlabel(\"epoch\")\n",
    "plt.ylabel(\"loss value\")\n",
    "plt.legend(loc=\"best\")\n",
    "plt.show()"
   ],
   "metadata": {
    "collapsed": false,
    "pycharm": {
     "name": "#%%\n"
    }
   }
  },
  {
   "cell_type": "markdown",
   "source": [
    "* 准确度"
   ],
   "metadata": {
    "collapsed": false,
    "pycharm": {
     "name": "#%% md\n"
    }
   }
  },
  {
   "cell_type": "code",
   "execution_count": 15,
   "outputs": [
    {
     "data": {
      "text/plain": "<Figure size 432x288 with 1 Axes>",
      "image/png": "[encoded data removed]"
     },
     "metadata": {
      "needs_background": "light"
     },
     "output_type": "display_data"
    }
   ],
   "source": [
    "plt.plot(range(num_epochs), acc_list)\n",
    "plt.xlabel(\"epoch\")\n",
    "plt.ylabel(\"val set accuracy\")\n",
    "plt.show()"
   ],
   "metadata": {
    "collapsed": false,
    "pycharm": {
     "name": "#%%\n"
    }
   }
  }
 ],
 "metadata": {
  "kernelspec": {
   "display_name": "Python 3",
   "language": "python",
   "name": "python3"
  },
  "language_info": {
   "codemirror_mode": {
    "name": "ipython",
    "version": 2
   },
   "file_extension": ".py",
   "mimetype": "text/x-python",
   "name": "python",
   "nbconvert_exporter": "python",
   "pygments_lexer": "ipython2",
   "version": "2.7.6"
  }
 },
 "nbformat": 4,
 "nbformat_minor": 0
}