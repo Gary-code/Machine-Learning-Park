{
 "cells": [
  {
   "cell_type": "markdown",
   "metadata": {
    "collapsed": true,
    "pycharm": {
     "name": "#%% md\n"
    }
   },
   "source": [
    "# 使用HMM模型对NLTK自带的Brown词库进行词性标注\n",
    "\n",
    "> 任务简述\n",
    "\n",
    "假设我们的单词集： words = w1 ... wN\n",
    "\n",
    "Tag集： tags = t1 ... tN\n",
    "\n",
    "P(tags | words) 正比于 $P(t_i | t_{i-1}) * P(w_i | t_i)$\n",
    "\n",
    "为了找一个句子的tag,其实就是找的最好的一套tags，让其最能够符合给定的单词(words)。"
   ]
  },
  {
   "cell_type": "code",
   "execution_count": 1,
   "outputs": [
    {
     "name": "stdout",
     "output_type": "stream",
     "text": [
      "[nltk_data] Downloading package brown to\n",
      "[nltk_data]     C:\\Users\\Gary\\AppData\\Roaming\\nltk_data...\n",
      "[nltk_data]   Unzipping corpora\\brown.zip.\n"
     ]
    }
   ],
   "source": [
    "import nltk\n",
    "import sys\n",
    "nltk.download('brown')\n",
    "from nltk.corpus import brown"
   ],
   "metadata": {
    "collapsed": false,
    "pycharm": {
     "name": "#%%\n"
    }
   }
  },
  {
   "cell_type": "markdown",
   "source": [
    "## 词库预处理\n",
    "给词加上开始和结束符号。\n",
    "\n",
    "Brown里面的句子都是自己标注好了的，比如：(I , NOUN), (LOVE, VERB), (YOU, NOUN)\n",
    "\n",
    "因此我们的开始符号也得跟他的格式符合：(START, START) (END, END)"
   ],
   "metadata": {
    "collapsed": false,
    "pycharm": {
     "name": "#%% md\n"
    }
   }
  },
  {
   "cell_type": "code",
   "execution_count": 3,
   "outputs": [
    {
     "data": {
      "text/plain": "[('START', 'START'),\n ('AT', 'The'),\n ('NP', 'Fulton'),\n ('NN', 'County'),\n ('JJ', 'Grand'),\n ('NN', 'Jury'),\n ('VB', 'said'),\n ('NR', 'Friday'),\n ('AT', 'an'),\n ('NN', 'investigation'),\n ('IN', 'of'),\n ('NP', \"Atlanta's\"),\n ('JJ', 'recent'),\n ('NN', 'primary'),\n ('NN', 'election'),\n ('VB', 'produced'),\n ('``', '``'),\n ('AT', 'no'),\n ('NN', 'evidence'),\n (\"''\", \"''\"),\n ('CS', 'that'),\n ('DT', 'any'),\n ('NN', 'irregularities'),\n ('VB', 'took'),\n ('NN', 'place'),\n ('.', '.'),\n ('END', 'END'),\n ('START', 'START'),\n ('AT', 'The'),\n ('NN', 'jury'),\n ('RB', 'further'),\n ('VB', 'said'),\n ('IN', 'in'),\n ('NN', 'term-end'),\n ('NN', 'presentments'),\n ('CS', 'that'),\n ('AT', 'the'),\n ('NN', 'City'),\n ('JJ', 'Executive'),\n ('NN', 'Committee'),\n (',', ','),\n ('WD', 'which'),\n ('HV', 'had'),\n ('JJ', 'over-all'),\n ('NN', 'charge'),\n ('IN', 'of'),\n ('AT', 'the'),\n ('NN', 'election'),\n (',', ','),\n ('``', '``'),\n ('VB', 'deserves'),\n ('AT', 'the'),\n ('NN', 'praise'),\n ('CC', 'and'),\n ('NN', 'thanks'),\n ('IN', 'of'),\n ('AT', 'the'),\n ('NN', 'City'),\n ('IN', 'of'),\n ('NP', 'Atlanta'),\n (\"''\", \"''\"),\n ('IN', 'for'),\n ('AT', 'the'),\n ('NN', 'manner'),\n ('IN', 'in'),\n ('WD', 'which'),\n ('AT', 'the'),\n ('NN', 'election'),\n ('BE', 'was'),\n ('VB', 'conducted'),\n ('.', '.'),\n ('END', 'END'),\n ('START', 'START'),\n ('AT', 'The'),\n ('NP', 'September-October'),\n ('NN', 'term'),\n ('NN', 'jury'),\n ('HV', 'had'),\n ('BE', 'been'),\n ('VB', 'charged'),\n ('IN', 'by'),\n ('NP', 'Fulton'),\n ('JJ', 'Superior'),\n ('NN', 'Court'),\n ('NN', 'Judge'),\n ('NP', 'Durwood'),\n ('NP', 'Pye'),\n ('TO', 'to'),\n ('VB', 'investigate'),\n ('NN', 'reports'),\n ('IN', 'of'),\n ('JJ', 'possible'),\n ('``', '``'),\n ('NN', 'irregularities'),\n (\"''\", \"''\"),\n ('IN', 'in'),\n ('AT', 'the'),\n ('JJ', 'hard-fought'),\n ('NN', 'primary'),\n ('WD', 'which'),\n ('BE', 'was'),\n ('VB', 'won'),\n ('IN', 'by'),\n ('NN', 'Mayor-nominate'),\n ('NP', 'Ivan'),\n ('NP', 'Allen'),\n ('NP', 'Jr.'),\n ('.', '.'),\n ('END', 'END'),\n ('START', 'START'),\n ('``', '``'),\n ('RB', 'Only'),\n ('AT', 'a'),\n ('JJ', 'relative'),\n ('NN', 'handful'),\n ('IN', 'of'),\n ('JJ', 'such'),\n ('NN', 'reports'),\n ('BE', 'was'),\n ('VB', 'received'),\n (\"''\", \"''\"),\n (',', ','),\n ('AT', 'the'),\n ('NN', 'jury'),\n ('VB', 'said'),\n (',', ','),\n ('``', '``'),\n ('IN', 'considering'),\n ('AT', 'the'),\n ('JJ', 'widespread'),\n ('NN', 'interest'),\n ('IN', 'in'),\n ('AT', 'the'),\n ('NN', 'election'),\n (',', ','),\n ('AT', 'the'),\n ('NN', 'number'),\n ('IN', 'of'),\n ('NN', 'voters'),\n ('CC', 'and'),\n ('AT', 'the'),\n ('NN', 'size'),\n ('IN', 'of'),\n ('DT', 'this'),\n ('NN', 'city'),\n (\"''\", \"''\"),\n ('.', '.'),\n ('END', 'END'),\n ('START', 'START'),\n ('AT', 'The'),\n ('NN', 'jury'),\n ('VB', 'said'),\n ('PP', 'it'),\n ('DO', 'did'),\n ('VB', 'find'),\n ('CS', 'that'),\n ('AP', 'many'),\n ('IN', 'of'),\n ('NP', \"Georgia's\"),\n ('NN', 'registration'),\n ('CC', 'and'),\n ('NN', 'election'),\n ('NN', 'laws'),\n ('``', '``'),\n ('BE', 'are'),\n ('JJ', 'outmoded'),\n ('CC', 'or'),\n ('JJ', 'inadequate'),\n ('CC', 'and'),\n ('RB', 'often'),\n ('JJ', 'ambiguous'),\n (\"''\", \"''\"),\n ('.', '.'),\n ('END', 'END'),\n ('START', 'START'),\n ('PP', 'It'),\n ('VB', 'recommended'),\n ('CS', 'that'),\n ('NP', 'Fulton'),\n ('NN', 'legislators'),\n ('VB', 'act'),\n ('``', '``'),\n ('TO', 'to'),\n ('HV', 'have'),\n ('DT', 'these'),\n ('NN', 'laws'),\n ('VB', 'studied'),\n ('CC', 'and'),\n ('VB', 'revised'),\n ('IN', 'to'),\n ('AT', 'the'),\n ('NN', 'end'),\n ('IN', 'of'),\n ('VB', 'modernizing'),\n ('CC', 'and'),\n ('VB', 'improving'),\n ('PP', 'them'),\n (\"''\", \"''\"),\n ('.', '.'),\n ('END', 'END'),\n ('START', 'START'),\n ('AT', 'The'),\n ('JJ', 'grand'),\n ('NN', 'jury'),\n ('VB', 'commented'),\n ('IN', 'on'),\n ('AT', 'a'),\n ('NN', 'number'),\n ('IN', 'of'),\n ('AP', 'other'),\n ('NN', 'topics'),\n (',', ','),\n ('IN', 'among'),\n ('PP', 'them'),\n ('AT', 'the'),\n ('NP', 'Atlanta'),\n ('CC', 'and'),\n ('NP', 'Fulton'),\n ('NN', 'County'),\n ('VB', 'purchasing'),\n ('NN', 'departments'),\n ('WD', 'which'),\n ('PP', 'it'),\n ('VB', 'said'),\n ('``', '``'),\n ('BE', 'are'),\n ('QL', 'well'),\n ('VB', 'operated'),\n ('CC', 'and'),\n ('VB', 'follow'),\n ('RB', 'generally'),\n ('VB', 'accepted'),\n ('NN', 'practices'),\n ('WD', 'which'),\n ('VB', 'inure'),\n ('IN', 'to'),\n ('AT', 'the'),\n ('JJ', 'best'),\n ('NN', 'interest'),\n ('IN', 'of'),\n ('AB', 'both'),\n ('NN', 'governments'),\n (\"''\", \"''\"),\n ('.', '.'),\n ('END', 'END'),\n ('START', 'START'),\n ('NN', 'Merger'),\n ('VB', 'proposed'),\n ('END', 'END'),\n ('START', 'START'),\n ('WR', 'However'),\n (',', ','),\n ('AT', 'the'),\n ('NN', 'jury'),\n ('VB', 'said'),\n ('PP', 'it'),\n ('VB', 'believes'),\n ('``', '``'),\n ('DT', 'these'),\n ('CD', 'two'),\n ('NN', 'offices'),\n ('MD', 'should'),\n ('BE', 'be'),\n ('VB', 'combined'),\n ('TO', 'to'),\n ('VB', 'achieve'),\n ('JJ', 'greater'),\n ('NN', 'efficiency'),\n ('CC', 'and'),\n ('VB', 'reduce'),\n ('AT', 'the'),\n ('NN', 'cost'),\n ('IN', 'of'),\n ('NN', 'administration'),\n (\"''\", \"''\"),\n ('.', '.'),\n ('END', 'END'),\n ('START', 'START'),\n ('AT', 'The'),\n ('NN', 'City'),\n ('VB', 'Purchasing'),\n ('NN', 'Department'),\n (',', ','),\n ('AT', 'the'),\n ('NN', 'jury'),\n ('VB', 'said'),\n (',', ','),\n ('``', '``'),\n ('BE', 'is'),\n ('VB', 'lacking'),\n ('IN', 'in'),\n ('VB', 'experienced'),\n ('JJ', 'clerical'),\n ('NN', 'personnel'),\n ('CS', 'as'),\n ('AT', 'a'),\n ('NN', 'result'),\n ('IN', 'of'),\n ('NN', 'city'),\n ('NN', 'personnel'),\n ('NN', 'policies'),\n (\"''\", \"''\"),\n ('.', '.'),\n ('END', 'END'),\n ('START', 'START'),\n ('PP', 'It'),\n ('VB', 'urged'),\n ('CS', 'that'),\n ('AT', 'the'),\n ('NN', 'city'),\n ('``', '``'),\n ('VB', 'take'),\n ('NN', 'steps'),\n ('TO', 'to'),\n ('VB', 'remedy'),\n (\"''\", \"''\"),\n ('DT', 'this'),\n ('NN', 'problem'),\n ('.', '.'),\n ('END', 'END'),\n ('START', 'START'),\n ('NN', 'Implementation'),\n ('IN', 'of'),\n ('NP', \"Georgia's\"),\n ('NN', 'automobile'),\n ('NN', 'title'),\n ('NN', 'law'),\n ('BE', 'was'),\n ('RB', 'also'),\n ('VB', 'recommended'),\n ('IN', 'by'),\n ('AT', 'the'),\n ('JJ', 'outgoing'),\n ('NN', 'jury'),\n ('.', '.'),\n ('END', 'END'),\n ('START', 'START'),\n ('PP', 'It'),\n ('VB', 'urged'),\n ('CS', 'that'),\n ('AT', 'the'),\n ('AP', 'next'),\n ('NN', 'Legislature'),\n ('``', '``'),\n ('VB', 'provide'),\n ('VB', 'enabling'),\n ('NN', 'funds'),\n ('CC', 'and'),\n ('VB', 're-set'),\n ('AT', 'the'),\n ('JJ', 'effective'),\n ('NN', 'date'),\n ('CS', 'so'),\n ('CS', 'that'),\n ('AT', 'an'),\n ('JJ', 'orderly'),\n ('NN', 'implementation'),\n ('IN', 'of'),\n ('AT', 'the'),\n ('NN', 'law'),\n ('MD', 'may'),\n ('BE', 'be'),\n ('VB', 'effected'),\n (\"''\", \"''\"),\n ('.', '.'),\n ('END', 'END'),\n ('START', 'START'),\n ('AT', 'The'),\n ('JJ', 'grand'),\n ('NN', 'jury'),\n ('VB', 'took'),\n ('AT', 'a'),\n ('NN', 'swipe'),\n ('IN', 'at'),\n ('AT', 'the'),\n ('NN', 'State'),\n ('NN', 'Welfare'),\n ('NN', \"Department's\"),\n ('NN', 'handling'),\n ('IN', 'of'),\n ('JJ', 'federal'),\n ('NN', 'funds'),\n ('VB', 'granted'),\n ('IN', 'for'),\n ('NN', 'child'),\n ('NN', 'welfare'),\n ('NN', 'services'),\n ('IN', 'in'),\n ('JJ', 'foster'),\n ('NN', 'homes'),\n ('.', '.'),\n ('END', 'END'),\n ('START', 'START'),\n ('``', '``'),\n ('DT', 'This'),\n ('BE', 'is'),\n ('CD', 'one'),\n ('IN', 'of'),\n ('AT', 'the'),\n ('JJ', 'major'),\n ('NN', 'items'),\n ('IN', 'in'),\n ('AT', 'the'),\n ('NP', 'Fulton'),\n ('NN', 'County'),\n ('JJ', 'general'),\n ('NN', 'assistance'),\n ('NN', 'program'),\n (\"''\", \"''\"),\n (',', ','),\n ('AT', 'the'),\n ('NN', 'jury'),\n ('VB', 'said'),\n (',', ','),\n ('CC', 'but'),\n ('AT', 'the'),\n ('NN', 'State'),\n ('NN', 'Welfare'),\n ('NN', 'Department'),\n ('``', '``'),\n ('HV', 'has'),\n ('VB', 'seen'),\n ('JJ', 'fit'),\n ('TO', 'to'),\n ('VB', 'distribute'),\n ('DT', 'these'),\n ('NN', 'funds'),\n ('IN', 'through'),\n ('AT', 'the'),\n ('NN', 'welfare'),\n ('NN', 'departments'),\n ('IN', 'of'),\n ('AB', 'all'),\n ('AT', 'the'),\n ('NN', 'counties'),\n ('IN', 'in'),\n ('AT', 'the'),\n ('NN', 'state'),\n ('IN', 'with'),\n ('AT', 'the'),\n ('NN', 'exception'),\n ('IN', 'of'),\n ('NP', 'Fulton'),\n ('NN', 'County'),\n (',', ','),\n ('WD', 'which'),\n ('VB', 'receives'),\n ('PN', 'none'),\n ('IN', 'of'),\n ('DT', 'this'),\n ('NN', 'money'),\n ('.', '.'),\n ('END', 'END'),\n ('START', 'START'),\n ('AT', 'The'),\n ('NN', 'jurors'),\n ('VB', 'said'),\n ('PP', 'they'),\n ('VB', 'realize'),\n ('``', '``'),\n ('AT', 'a'),\n ('JJ', 'proportionate'),\n ('NN', 'distribution'),\n ('IN', 'of'),\n ('DT', 'these'),\n ('NN', 'funds'),\n ('MD', 'might'),\n ('VB', 'disable'),\n ('DT', 'this'),\n ('NN', 'program'),\n ('IN', 'in'),\n ('PP', 'our'),\n ('QL', 'less'),\n ('JJ', 'populous'),\n ('NN', 'counties'),\n (\"''\", \"''\"),\n ('.', '.'),\n ('END', 'END'),\n ('START', 'START'),\n ('RB', 'Nevertheless'),\n (',', ','),\n ('``', '``'),\n ('PP', 'we'),\n ('VB', 'feel'),\n ('CS', 'that'),\n ('IN', 'in'),\n ('AT', 'the'),\n ('NN', 'future'),\n ('NP', 'Fulton'),\n ('NN', 'County'),\n ('MD', 'should'),\n ('VB', 'receive'),\n ('DT', 'some'),\n ('NN', 'portion'),\n ('IN', 'of'),\n ('DT', 'these'),\n ('JJ', 'available'),\n ('NN', 'funds'),\n (\"''\", \"''\"),\n (',', ','),\n ('AT', 'the'),\n ('NN', 'jurors'),\n ('VB', 'said'),\n ('.', '.'),\n ('END', 'END'),\n ('START', 'START'),\n ('``', '``'),\n ('NN', 'Failure'),\n ('TO', 'to'),\n ('DO', 'do'),\n ('DT', 'this'),\n ('MD', 'will'),\n ('VB', 'continue'),\n ('TO', 'to'),\n ('VB', 'place'),\n ('AT', 'a'),\n ('JJ', 'disproportionate'),\n ('NN', 'burden'),\n (\"''\", \"''\"),\n ('IN', 'on'),\n ('NP', 'Fulton'),\n ('NN', 'taxpayers'),\n ('.', '.'),\n ('END', 'END'),\n ('START', 'START'),\n ('AT', 'The'),\n ('NN', 'jury'),\n ('RB', 'also'),\n ('VB', 'commented'),\n ('IN', 'on'),\n ('AT', 'the'),\n ('NP', 'Fulton'),\n ('NN', \"ordinary's\"),\n ('NN', 'court'),\n ('WD', 'which'),\n ('HV', 'has'),\n ('BE', 'been'),\n ('IN', 'under'),\n ('NN', 'fire'),\n ('IN', 'for'),\n ('PP', 'its'),\n ('NN', 'practices'),\n ('IN', 'in'),\n ('AT', 'the'),\n ('NN', 'appointment'),\n ('IN', 'of'),\n ('NN', 'appraisers'),\n (',', ','),\n ('NN', 'guardians'),\n ('CC', 'and'),\n ('NN', 'administrators'),\n ('CC', 'and'),\n ('AT', 'the'),\n ('NN', 'awarding'),\n ('IN', 'of'),\n ('NN', 'fees'),\n ('CC', 'and'),\n ('NN', 'compensation'),\n ('.', '.'),\n ('END', 'END'),\n ('START', 'START'),\n ('NN', 'Wards'),\n ('VB', 'protected'),\n ('END', 'END'),\n ('START', 'START'),\n ('AT', 'The'),\n ('NN', 'jury'),\n ('VB', 'said'),\n ('PP', 'it'),\n ('VB', 'found'),\n ('AT', 'the'),\n ('NN', 'court'),\n ('``', '``'),\n ('HV', 'has'),\n ('VB', 'incorporated'),\n ('IN', 'into'),\n ('PP', 'its'),\n ('VB', 'operating'),\n ('NN', 'procedures'),\n ('AT', 'the'),\n ('NN', 'recommendations'),\n (\"''\", \"''\"),\n ('IN', 'of'),\n ('CD', 'two'),\n ('JJ', 'previous'),\n ('JJ', 'grand'),\n ('NN', 'juries'),\n (',', ','),\n ('AT', 'the'),\n ('NP', 'Atlanta'),\n ('NN', 'Bar'),\n ('NN', 'Association'),\n ('CC', 'and'),\n ('AT', 'an'),\n ('NN', 'interim'),\n ('NN', 'citizens'),\n ('NN', 'committee'),\n ('.', '.'),\n ('END', 'END'),\n ('START', 'START'),\n ('``', '``'),\n ('DT', 'These'),\n ('NN', 'actions'),\n ('MD', 'should'),\n ('VB', 'serve'),\n ('TO', 'to'),\n ('VB', 'protect'),\n ('IN', 'in'),\n ('NN', 'fact'),\n ('CC', 'and'),\n ('IN', 'in'),\n ('NN', 'effect'),\n ('AT', 'the'),\n ('NN', \"court's\"),\n ('NN', 'wards'),\n ('IN', 'from'),\n ('JJ', 'undue'),\n ('NN', 'costs'),\n ('CC', 'and'),\n ('PP', 'its'),\n ('VB', 'appointed'),\n ('CC', 'and'),\n ('VB', 'elected'),\n ('NN', 'servants'),\n ('IN', 'from'),\n ('JJ', 'unmeritorious'),\n ('NN', 'criticisms'),\n (\"''\", \"''\"),\n (',', ','),\n ('AT', 'the'),\n ('NN', 'jury'),\n ('VB', 'said'),\n ('.', '.'),\n ('END', 'END'),\n ('START', 'START'),\n ('IN', 'Regarding'),\n ('NP', \"Atlanta's\"),\n ('JJ', 'new'),\n ('JJ', 'multi-million-dollar'),\n ('NN', 'airport'),\n (',', ','),\n ('AT', 'the'),\n ('NN', 'jury'),\n ('VB', 'recommended'),\n ('``', '``'),\n ('CS', 'that'),\n ('WR', 'when'),\n ('AT', 'the'),\n ('JJ', 'new'),\n ('NN', 'management'),\n ('VB', 'takes'),\n ('NN', 'charge'),\n ('NP', 'Jan.'),\n ('CD', '1'),\n ('AT', 'the'),\n ('NN', 'airport'),\n ('BE', 'be'),\n ('VB', 'operated'),\n ('IN', 'in'),\n ('AT', 'a'),\n ('NN', 'manner'),\n ('WP', 'that'),\n ('MD', 'will'),\n ('VB', 'eliminate'),\n ('JJ', 'political'),\n ('NN', 'influences'),\n (\"''\", \"''\"),\n ('.', '.'),\n ('END', 'END'),\n ('START', 'START'),\n ('AT', 'The'),\n ('NN', 'jury'),\n ('DO', 'did'),\n ('*', 'not'),\n ('VB', 'elaborate'),\n (',', ','),\n ('CC', 'but'),\n ('PP', 'it'),\n ('VB', 'added'),\n ('CS', 'that'),\n ('``', '``'),\n ('EX', 'there'),\n ('MD', 'should'),\n ('BE', 'be'),\n ('JJ', 'periodic'),\n ('NN', 'surveillance'),\n ('IN', 'of'),\n ('AT', 'the'),\n ('VB', 'pricing'),\n ('NN', 'practices'),\n ('IN', 'of'),\n ('AT', 'the'),\n ('NN', 'concessionaires'),\n ('IN', 'for'),\n ('AT', 'the'),\n ('NN', 'purpose'),\n ('IN', 'of'),\n ('VB', 'keeping'),\n ('AT', 'the'),\n ('NN', 'prices'),\n ('JJ', 'reasonable'),\n (\"''\", \"''\"),\n ('.', '.'),\n ('END', 'END'),\n ('START', 'START'),\n ('VB', 'Ask'),\n ('NN', 'jail'),\n ('NN', 'deputies'),\n ('END', 'END'),\n ('START', 'START'),\n ('IN', 'On'),\n ('AP', 'other'),\n ('NN', 'matters'),\n (',', ','),\n ('AT', 'the'),\n ('NN', 'jury'),\n ('VB', 'recommended'),\n ('CS', 'that'),\n (':', ':'),\n ('(', '('),\n ('CD', '1'),\n (')', ')'),\n ('END', 'END'),\n ('START', 'START'),\n ('CD', 'Four'),\n ('JJ', 'additional'),\n ('NN', 'deputies'),\n ('BE', 'be'),\n ('VB', 'employed'),\n ('IN', 'at'),\n ('AT', 'the'),\n ('NP', 'Fulton'),\n ('NN', 'County'),\n ('NN', 'Jail'),\n ('CC', 'and'),\n ('``', '``'),\n ('AT', 'a'),\n ('NN', 'doctor'),\n (',', ','),\n ('JJ', 'medical'),\n ('NN', 'intern'),\n ('CC', 'or'),\n ('NN', 'extern'),\n ('BE', 'be'),\n ('VB', 'employed'),\n ('IN', 'for'),\n ('NN', 'night'),\n ('CC', 'and'),\n ('NN', 'weekend'),\n ('NN', 'duty'),\n ('IN', 'at'),\n ('AT', 'the'),\n ('NN', 'jail'),\n (\"''\", \"''\"),\n ('.', '.'),\n ('END', 'END'),\n ('START', 'START'),\n ('(', '('),\n ('CD', '2'),\n (')', ')'),\n ('END', 'END'),\n ('START', 'START'),\n ('NP', 'Fulton'),\n ('NN', 'legislators'),\n ('``', '``'),\n ('VB', 'work'),\n ('IN', 'with'),\n ('NN', 'city'),\n ('NN', 'officials'),\n ('TO', 'to'),\n ('VB', 'pass'),\n ('VB', 'enabling'),\n ('NN', 'legislation'),\n ('WP', 'that'),\n ('MD', 'will'),\n ('VB', 'permit'),\n ('AT', 'the'),\n ('NN', 'establishment'),\n ('IN', 'of'),\n ('AT', 'a'),\n ('JJ', 'fair'),\n ('CC', 'and'),\n ('JJ', 'equitable'),\n (\"''\", \"''\"),\n ('NN', 'pension'),\n ('NN', 'plan'),\n ('IN', 'for'),\n ('NN', 'city'),\n ('NN', 'employes'),\n ('.', '.'),\n ('END', 'END'),\n ('START', 'START'),\n ('AT', 'The'),\n ('NN', 'jury'),\n ('VB', 'praised'),\n ('AT', 'the'),\n ('NN', 'administration'),\n ('CC', 'and'),\n ('NN', 'operation'),\n ('IN', 'of'),\n ('AT', 'the'),\n ('NP', 'Atlanta'),\n ('NN', 'Police'),\n ('NN', 'Department'),\n (',', ','),\n ('AT', 'the'),\n ('NP', 'Fulton'),\n ('NN', 'Tax'),\n ('NN', \"Commissioner's\"),\n ('NN', 'Office'),\n (',', ','),\n ('AT', 'the'),\n ('NP', 'Bellwood'),\n ('CC', 'and'),\n ('NP', 'Alpharetta'),\n ('NN', 'prison'),\n ('NN', 'farms'),\n (',', ','),\n ('NP', 'Grady'),\n ('NN', 'Hospital'),\n ('CC', 'and'),\n ('AT', 'the'),\n ('NP', 'Fulton'),\n ('NN', 'Health'),\n ('NN', 'Department'),\n ('.', '.'),\n ('END', 'END'),\n ('START', 'START'),\n ('NN', 'Mayor'),\n ('NP', 'William'),\n ('NP', 'B.'),\n ('NP', 'Hartsfield'),\n ('VB', 'filed'),\n ('NN', 'suit'),\n ('IN', 'for'),\n ('NN', 'divorce'),\n ('IN', 'from'),\n ('PP', 'his'),\n ('NN', 'wife'),\n (',', ','),\n ('NP', 'Pearl'),\n ('NP', 'Williams'),\n ('NP', 'Hartsfield'),\n (',', ','),\n ('IN', 'in'),\n ('NP', 'Fulton'),\n ('JJ', 'Superior'),\n ('NN', 'Court'),\n ('NR', 'Friday'),\n ('.', '.'),\n ('END', 'END'),\n ('START', 'START'),\n ('PP', 'His'),\n ('NN', 'petition'),\n ('VB', 'charged'),\n ('JJ', 'mental'),\n ('NN', 'cruelty'),\n ('.', '.'),\n ('END', 'END'),\n ('START', 'START'),\n ('AT', 'The'),\n ('NN', 'couple'),\n ('BE', 'was'),\n ('VB', 'married'),\n ('NP', 'Aug.'),\n ('CD', '2'),\n (',', ','),\n ('CD', '1913'),\n ('.', '.'),\n ('END', 'END'),\n ('START', 'START'),\n ('PP', 'They'),\n ('HV', 'have'),\n ('AT', 'a'),\n ('NN', 'son'),\n (',', ','),\n ('NP', 'William'),\n ('NP', 'Berry'),\n ('NP', 'Jr.'),\n (',', ','),\n ('CC', 'and'),\n ('AT', 'a'),\n ('NN', 'daughter'),\n (',', ','),\n ('NP', 'Mrs.'),\n ('NP', 'J.'),\n ('NP', 'M.'),\n ('NP', 'Cheshire'),\n ('IN', 'of'),\n ('NP', 'Griffin'),\n ('.', '.'),\n ('END', 'END'),\n ('START', 'START'),\n ('NN', 'Attorneys'),\n ('IN', 'for'),\n ('AT', 'the'),\n ('NN', 'mayor'),\n ('VB', 'said'),\n ('CS', 'that'),\n ('AT', 'an'),\n ('JJ', 'amicable'),\n ('NN', 'property'),\n ('NN', 'settlement'),\n ('HV', 'has'),\n ('BE', 'been'),\n ('VB', 'agreed'),\n ('RB', 'upon'),\n ('.', '.'),\n ('END', 'END'),\n ('START', 'START'),\n ('AT', 'The'),\n ('NN', 'petition'),\n ('VB', 'listed'),\n ('AT', 'the'),\n ('NN', \"mayor's\"),\n ('NN', 'occupation'),\n ('CS', 'as'),\n ('``', '``'),\n ('NN', 'attorney'),\n (\"''\", \"''\"),\n ('CC', 'and'),\n ('PP', 'his'),\n ('NN', 'age'),\n ('CS', 'as'),\n ('CD', '71'),\n ('.', '.'),\n ('END', 'END'),\n ('START', 'START'),\n ('PP', 'It'),\n ('VB', 'listed'),\n ('PP', 'his'),\n ('NN', \"wife's\"),\n ('NN', 'age'),\n ('CS', 'as'),\n ('CD', '74'),\n ('CC', 'and'),\n ('NN', 'place'),\n ('IN', 'of'),\n ('NN', 'birth'),\n ('CS', 'as'),\n ('NP', 'Opelika'),\n (',', ','),\n ('NP', 'Ala.'),\n ('.', '.'),\n ('END', 'END'),\n ('START', 'START'),\n ('AT', 'The'),\n ('NN', 'petition'),\n ('VB', 'said'),\n ('CS', 'that'),\n ('AT', 'the'),\n ('NN', 'couple'),\n ('HV', 'has'),\n ('*', 'not'),\n ('VB', 'lived'),\n ('RB', 'together'),\n ('CS', 'as'),\n ('NN', 'man'),\n ('CC', 'and'),\n ('NN', 'wife'),\n ('IN', 'for'),\n ('AP', 'more'),\n ('IN', 'than'),\n ('AT', 'a'),\n ('NN', 'year'),\n ('.', '.'),\n ('END', 'END'),\n ('START', 'START'),\n ('AT', 'The'),\n ('NP', 'Hartsfield'),\n ('NR', 'home'),\n ('BE', 'is'),\n ('IN', 'at'),\n ('CD', '637'),\n ('NP', 'E.'),\n ('NP', 'Pelham'),\n ('NN', 'Rd.'),\n ('NN', 'Aj'),\n ('.', '.'),\n ('END', 'END'),\n ('START', 'START'),\n ('NP', 'Henry'),\n ('NP', 'L.'),\n ('NP', 'Bowden'),\n ('BE', 'was'),\n ('VB', 'listed'),\n ('IN', 'on'),\n ('AT', 'the'),\n ('NN', 'petition'),\n ('CS', 'as'),\n ('AT', 'the'),\n ('NN', \"mayor's\"),\n ('NN', 'attorney'),\n ('.', '.'),\n ('END', 'END'),\n ('START', 'START'),\n ('NP', 'Hartsfield'),\n ('HV', 'has'),\n ('BE', 'been'),\n ('NN', 'mayor'),\n ...]"
     },
     "execution_count": 3,
     "metadata": {},
     "output_type": "execute_result"
    }
   ],
   "source": [
    "brown_tags_words = []\n",
    "for sent in brown.tagged_sents():\n",
    "    # 先加开头\n",
    "    brown_tags_words.append((\"START\", \"START\"))\n",
    "    # 为了简单起见，我们把tag都省略成前两个字母\n",
    "    brown_tags_words.extend([(tag[:2], word) for (word, tag) in sent])\n",
    "    # 加个结尾\n",
    "    brown_tags_words.append((\"END\", \"END\"))\n",
    "\n",
    "brown_tags_words"
   ],
   "metadata": {
    "collapsed": false,
    "pycharm": {
     "name": "#%%\n"
    }
   }
  },
  {
   "cell_type": "markdown",
   "source": [
    "## 统计\n",
    "\n",
    "把我们所有的词库中拥有的单词与tag之间的关系，做个简单粗暴的统计。\n",
    "\n",
    "$P(w_i | t_i) = count(w_i, t_i) / count(t_i)$\n",
    "\n",
    "这里NLTK库给了我们做统计的工具。"
   ],
   "metadata": {
    "collapsed": false,
    "pycharm": {
     "name": "#%% md\n"
    }
   }
  },
  {
   "cell_type": "code",
   "execution_count": 4,
   "outputs": [
    {
     "name": "stdout",
     "output_type": "stream",
     "text": [
      "The probability of an adjective (JJ) being 'new' is 0.01472344917632025\n",
      "The probability of a verb (VB) being 'duck' is 6.042713350943527e-05\n"
     ]
    }
   ],
   "source": [
    "# 状态频率分布\n",
    "cfd_tagwords = nltk.ConditionalFreqDist(brown_tags_words)\n",
    "# 状态概率分布\n",
    "cpd_tagwords = nltk.ConditionalProbDist(cfd_tagwords, nltk.MLEProbDist)\n",
    "\n",
    "print(\"The probability of an adjective (JJ) being 'new' is\", cpd_tagwords[\"JJ\"].prob(\"new\"))\n",
    "print(\"The probability of a verb (VB) being 'duck' is\", cpd_tagwords[\"VB\"].prob(\"duck\"))"
   ],
   "metadata": {
    "collapsed": false,
    "pycharm": {
     "name": "#%%\n"
    }
   }
  },
  {
   "cell_type": "markdown",
   "source": [
    "接下来计算马尔科夫链:\n",
    "$P(t_i | t_{i-1}) = count(t_{i-1}, t_i) / count(t_{i-1})$"
   ],
   "metadata": {
    "collapsed": false,
    "pycharm": {
     "name": "#%% md\n"
    }
   }
  },
  {
   "cell_type": "code",
   "execution_count": 5,
   "outputs": [
    {
     "name": "stdout",
     "output_type": "stream",
     "text": [
      "If we have just seen 'DT', the probability of 'NN' is 0.5057722522030194\n",
      "If we have just seen 'VB', the probability of 'JJ' is 0.016885067592065053\n",
      "If we have just seen 'VB', the probability of 'NN' is 0.10970977711020183\n"
     ]
    }
   ],
   "source": [
    "# 去除所有tag\n",
    "brown_tags = [tag for (tag, word) in brown_tags_words ]\n",
    "\n",
    "# count(t{i-1} ti), bigram:前后两个一组，联在一起\n",
    "cfd_tags= nltk.ConditionalFreqDist(nltk.bigrams(brown_tags))\n",
    "# P(ti | t{i-1})\n",
    "cpd_tags = nltk.ConditionalProbDist(cfd_tags, nltk.MLEProbDist)\n",
    "\n",
    "print(\"If we have just seen 'DT', the probability of 'NN' is\", cpd_tags[\"DT\"].prob(\"NN\"))\n",
    "print( \"If we have just seen 'VB', the probability of 'JJ' is\", cpd_tags[\"VB\"].prob(\"DT\"))\n",
    "print( \"If we have just seen 'VB', the probability of 'NN' is\", cpd_tags[\"VB\"].prob(\"NN\"))"
   ],
   "metadata": {
    "collapsed": false,
    "pycharm": {
     "name": "#%%\n"
    }
   }
  },
  {
   "cell_type": "markdown",
   "source": [
    "## 结果探究\n",
    "\n",
    "比如， 一句话，\"I want to race\"， 一套tag，\"PP VB TO VB\"\n",
    "他们之间的匹配度有多高呢？"
   ],
   "metadata": {
    "collapsed": false,
    "pycharm": {
     "name": "#%% md\n"
    }
   }
  },
  {
   "cell_type": "code",
   "execution_count": 7,
   "outputs": [
    {
     "name": "stdout",
     "output_type": "stream",
     "text": [
      "The probability of the tag sequence 'START PP VB TO VB END' for 'I want to race' is: 1.0817766461150474e-14\n"
     ]
    }
   ],
   "source": [
    "prob_tagsequence = cpd_tags[\"START\"].prob(\"PP\") * cpd_tagwords[\"PP\"].prob(\"I\") * cpd_tags[\"PP\"].prob(\"VB\") * cpd_tagwords[\"VB\"].prob(\"want\") * cpd_tags[\"VB\"].prob(\"TO\") * cpd_tagwords[\"TO\"].prob(\"to\") * cpd_tags[\"TO\"].prob(\"VB\") * cpd_tagwords[\"VB\"].prob(\"race\") * cpd_tags[\"VB\"].prob(\"END\")\n",
    "\n",
    "print( \"The probability of the tag sequence 'START PP VB TO VB END' for 'I want to race' is:\", prob_tagsequence)"
   ],
   "metadata": {
    "collapsed": false,
    "pycharm": {
     "name": "#%%\n"
    }
   }
  },
  {
   "cell_type": "markdown",
   "source": [
    "## 预测（解码）问题\n",
    "\n",
    "如果我们手上有一句话，怎么知道最符合的tag是哪组呢？"
   ],
   "metadata": {
    "collapsed": false,
    "pycharm": {
     "name": "#%% md\n"
    }
   }
  },
  {
   "cell_type": "markdown",
   "source": [
    "首先，我们拿出所有tags（tags的全集）"
   ],
   "metadata": {
    "collapsed": false,
    "pycharm": {
     "name": "#%% md\n"
    }
   }
  },
  {
   "cell_type": "code",
   "execution_count": 8,
   "outputs": [],
   "source": [
    "distinct_tags = set(brown_tags)"
   ],
   "metadata": {
    "collapsed": false,
    "pycharm": {
     "name": "#%%\n"
    }
   }
  },
  {
   "cell_type": "markdown",
   "source": [
    "随便写上一句话"
   ],
   "metadata": {
    "collapsed": false,
    "pycharm": {
     "name": "#%% md\n"
    }
   }
  },
  {
   "cell_type": "code",
   "execution_count": 9,
   "outputs": [],
   "source": [
    "sentence = [\"I\", \"want\", \"to\", \"race\" ]\n",
    "sentlen = len(sentence)"
   ],
   "metadata": {
    "collapsed": false,
    "pycharm": {
     "name": "#%%\n"
    }
   }
  },
  {
   "cell_type": "markdown",
   "source": [
    "接下来，开始维特比：\n",
    "\n",
    "从1循环到句子的总长N，记为i\n",
    "\n",
    "每次都找出以tag X为最终节点，长度为i的tag链"
   ],
   "metadata": {
    "collapsed": false,
    "pycharm": {
     "name": "#%% md\n"
    }
   }
  },
  {
   "cell_type": "code",
   "execution_count": 10,
   "outputs": [],
   "source": [
    "viterbi = [ ]"
   ],
   "metadata": {
    "collapsed": false,
    "pycharm": {
     "name": "#%%\n"
    }
   }
  },
  {
   "cell_type": "markdown",
   "source": [
    "同时，还需要一个回溯器：\n",
    "\n",
    "从1循环到句子的总长N，记为i\n",
    "\n",
    "把所有tag X 前一个Tag记下来。"
   ],
   "metadata": {
    "collapsed": false,
    "pycharm": {
     "name": "#%% md\n"
    }
   }
  },
  {
   "cell_type": "code",
   "execution_count": 11,
   "outputs": [
    {
     "name": "stdout",
     "output_type": "stream",
     "text": [
      "{',': 0.0, 'IN': 0.0, '(': 0.0, 'RN': 0.0, \"''\": 0.0, '.': 0.0, 'PN': 0.0, 'NI': 3.3324520848931064e-07, 'DT': 0.0, ')-': 0.0, 'AT': 0.0, 'MD': 0.0, 'NP': 1.7319067623793952e-06, 'CS': 0.0, 'OD': 0.0, '*': 0.0, 'CC': 0.0, ',-': 0.0, 'UH': 0.0, '*-': 0.0, 'CD': 0.0, 'AP': 0.0, 'DO': 0.0, 'WQ': 0.0, 'QL': 0.0, 'BE': 0.0, ')': 0.0, 'HV': 0.0, 'AB': 0.0, '--': 0.0, 'RP': 0.0, 'WR': 0.0, 'WD': 0.0, 'RB': 0.0, 'TO': 0.0, ':': 0.0, ':-': 0.0, 'WP': 0.0, 'FW': 0.0, 'NN': 1.0580313619573935e-06, '``': 0.0, '.-': 0.0, 'VB': 0.0, \"'\": 0.0, 'PP': 0.014930900689060006, 'NR': 0.0, 'EX': 0.0, 'END': 0.0, '(-': 0.0, 'JJ': 0.0}\n",
      "{',': 'START', 'IN': 'START', '(': 'START', 'RN': 'START', \"''\": 'START', '.': 'START', 'PN': 'START', 'NI': 'START', 'DT': 'START', ')-': 'START', 'AT': 'START', 'MD': 'START', 'NP': 'START', 'CS': 'START', 'OD': 'START', '*': 'START', 'CC': 'START', ',-': 'START', 'UH': 'START', '*-': 'START', 'CD': 'START', 'AP': 'START', 'DO': 'START', 'WQ': 'START', 'QL': 'START', 'BE': 'START', ')': 'START', 'HV': 'START', 'AB': 'START', '--': 'START', 'RP': 'START', 'WR': 'START', 'WD': 'START', 'RB': 'START', 'TO': 'START', ':': 'START', ':-': 'START', 'WP': 'START', 'FW': 'START', 'NN': 'START', '``': 'START', '.-': 'START', 'VB': 'START', \"'\": 'START', 'PP': 'START', 'NR': 'START', 'EX': 'START', 'END': 'START', '(-': 'START', 'JJ': 'START'}\n"
     ]
    }
   ],
   "source": [
    "backpointer = [ ]\n",
    "\n",
    "first_viterbi = { }\n",
    "first_backpointer = { }\n",
    "for tag in distinct_tags:\n",
    "    # don't record anything for the START tag\n",
    "    if tag == \"START\": continue\n",
    "    first_viterbi[ tag ] = cpd_tags[\"START\"].prob(tag) * cpd_tagwords[tag].prob( sentence[0] )\n",
    "    first_backpointer[ tag ] = \"START\"\n",
    "\n",
    "print(first_viterbi)\n",
    "print(first_backpointer)"
   ],
   "metadata": {
    "collapsed": false,
    "pycharm": {
     "name": "#%%\n"
    }
   }
  },
  {
   "cell_type": "markdown",
   "source": [
    "以上，是所有的第一个viterbi 和第一个回溯点。\n",
    "\n",
    "接下来，把楼上这些，存到Vitterbi和Backpointer两个变量里去"
   ],
   "metadata": {
    "collapsed": false,
    "pycharm": {
     "name": "#%% md\n"
    }
   }
  },
  {
   "cell_type": "code",
   "execution_count": 12,
   "outputs": [],
   "source": [
    "viterbi.append(first_viterbi)\n",
    "backpointer.append(first_backpointer)"
   ],
   "metadata": {
    "collapsed": false,
    "pycharm": {
     "name": "#%%\n"
    }
   }
  },
  {
   "cell_type": "code",
   "execution_count": 13,
   "outputs": [
    {
     "name": "stdout",
     "output_type": "stream",
     "text": [
      "Word 'I' current best two-tag sequence: START PP\n"
     ]
    }
   ],
   "source": [
    "# 观察目前最好的tag\n",
    "currbest = max(first_viterbi.keys(), key = lambda tag: first_viterbi[ tag ])\n",
    "print( \"Word\", \"'\" + sentence[0] + \"'\", \"current best two-tag sequence:\", first_backpointer[ currbest], currbest)"
   ],
   "metadata": {
    "collapsed": false,
    "pycharm": {
     "name": "#%%\n"
    }
   }
  },
  {
   "cell_type": "code",
   "execution_count": 15,
   "outputs": [
    {
     "name": "stdout",
     "output_type": "stream",
     "text": [
      "Word 'want' current best two-tag sequence: PP VB\n",
      "Word 'to' current best two-tag sequence: VB TO\n",
      "Word 'race' current best two-tag sequence: IN NN\n"
     ]
    }
   ],
   "source": [
    "for wordindex in range(1, len(sentence)):\n",
    "    this_viterbi = { }\n",
    "    this_backpointer = { }\n",
    "    prev_viterbi = viterbi[-1]\n",
    "\n",
    "    for tag in distinct_tags:\n",
    "        # START没有卵用的，我们要忽略\n",
    "        if tag == \"START\": continue\n",
    "\n",
    "        # 如果现在这个tag是X，现在的单词是w，\n",
    "        # 我们想找前一个tag Y，并且让最好的tag sequence以Y X结尾。\n",
    "        # 也就是说\n",
    "        # Y要能最大化：\n",
    "        # prev_viterbi[ Y ] * P(X | Y) * P( w | X)\n",
    "\n",
    "        best_previous = max(prev_viterbi.keys(),\n",
    "                            key = lambda prevtag:\n",
    "                                prev_viterbi[ prevtag ] * cpd_tags[prevtag].prob(tag) * cpd_tagwords[tag].prob(sentence[wordindex]))\n",
    "\n",
    "        this_viterbi[ tag ] = prev_viterbi[ best_previous] * cpd_tags[ best_previous ].prob(tag) * cpd_tagwords[ tag].prob(sentence[wordindex])\n",
    "        this_backpointer[ tag ] = best_previous\n",
    "\n",
    "    # 每次找完Y 我们把目前最好的 存一下\n",
    "    currbest = max(this_viterbi.keys(), key = lambda tag: this_viterbi[ tag ])\n",
    "    print( \"Word\", \"'\" + sentence[ wordindex] + \"'\", \"current best two-tag sequence:\", this_backpointer[ currbest], currbest)\n",
    "\n",
    "\n",
    "    # 完结\n",
    "    # 全部存下来\n",
    "    viterbi.append(this_viterbi)\n",
    "    backpointer.append(this_backpointer)"
   ],
   "metadata": {
    "collapsed": false,
    "pycharm": {
     "name": "#%%\n"
    }
   }
  },
  {
   "cell_type": "markdown",
   "source": [
    "找END，结束："
   ],
   "metadata": {
    "collapsed": false,
    "pycharm": {
     "name": "#%% md\n"
    }
   }
  },
  {
   "cell_type": "code",
   "execution_count": 16,
   "outputs": [],
   "source": [
    "# 找所有以END结尾的tag sequence\n",
    "prev_viterbi = viterbi[-1]\n",
    "best_previous = max(prev_viterbi.keys(),\n",
    "                    key = lambda prevtag: prev_viterbi[ prevtag ] * cpd_tags[prevtag].prob(\"END\"))\n",
    "\n",
    "prob_tagsequence = prev_viterbi[ best_previous ] * cpd_tags[ best_previous].prob(\"END\")\n",
    "\n",
    "# 我们这会儿是倒着存的。。。。因为。。好的在后面\n",
    "best_tagsequence = [ \"END\", best_previous ]\n",
    "# 同理 这里也有倒过来\n",
    "backpointer.reverse()"
   ],
   "metadata": {
    "collapsed": false,
    "pycharm": {
     "name": "#%%\n"
    }
   }
  },
  {
   "cell_type": "markdown",
   "source": [
    "最后，回溯所有的回溯点\n",
    "\n",
    "此时，最好的tag就是backpointer里面的current best"
   ],
   "metadata": {
    "collapsed": false,
    "pycharm": {
     "name": "#%% md\n"
    }
   }
  },
  {
   "cell_type": "code",
   "execution_count": 17,
   "outputs": [],
   "source": [
    "current_best_tag = best_previous\n",
    "for bp in backpointer:\n",
    "    best_tagsequence.append(bp[current_best_tag])\n",
    "    current_best_tag = bp[current_best_tag]"
   ],
   "metadata": {
    "collapsed": false,
    "pycharm": {
     "name": "#%%\n"
    }
   }
  },
  {
   "cell_type": "markdown",
   "source": [
    "显示结果："
   ],
   "metadata": {
    "collapsed": false,
    "pycharm": {
     "name": "#%% md\n"
    }
   }
  },
  {
   "cell_type": "code",
   "execution_count": 21,
   "outputs": [
    {
     "name": "stdout",
     "output_type": "stream",
     "text": [
      "The sentence was: I want to race \n",
      "\n",
      "The best tag sequence is: END NN IN VB PP START \n",
      "\n",
      "The probability of the best tag sequence is: 5.71772824864617e-14\n"
     ]
    }
   ],
   "source": [
    "best_tagsequence.reverse()\n",
    "print( \"The sentence was:\", end = \" \")\n",
    "for w in sentence: print( w, end = \" \")\n",
    "print(\"\\n\")\n",
    "print( \"The best tag sequence is:\", end = \" \")\n",
    "for t in best_tagsequence: print (t, end = \" \")\n",
    "print(\"\\n\")\n",
    "print( \"The probability of the best tag sequence is:\", prob_tagsequence)"
   ],
   "metadata": {
    "collapsed": false,
    "pycharm": {
     "name": "#%%\n"
    }
   }
  },
  {
   "cell_type": "markdown",
   "source": [
    "可以分析得出，结果并不理想，应当需要更多的语料信息。"
   ],
   "metadata": {
    "collapsed": false,
    "pycharm": {
     "name": "#%% md\n"
    }
   }
  }
 ],
 "metadata": {
  "kernelspec": {
   "display_name": "Python 3",
   "language": "python",
   "name": "python3"
  },
  "language_info": {
   "codemirror_mode": {
    "name": "ipython",
    "version": 2
   },
   "file_extension": ".py",
   "mimetype": "text/x-python",
   "name": "python",
   "nbconvert_exporter": "python",
   "pygments_lexer": "ipython2",
   "version": "2.7.6"
  }
 },
 "nbformat": 4,
 "nbformat_minor": 0
}