{
 "cells": [
  {
   "cell_type": "markdown",
   "metadata": {
    "collapsed": true,
    "pycharm": {
     "name": "#%% md\n"
    }
   },
   "source": [
    "# Adaboost算法实现\n",
    "> [ensemble.py](./ensemble.py)为核心算法实现代码\n",
    ">\n",
    "> 数据集[下载地址](https://github.com/LiZhenLiangLee/ML2019-lab-03)（dataset文件夹）"
   ]
  },
  {
   "cell_type": "code",
   "execution_count": null,
   "outputs": [],
   "source": [
    "import numpy as np\n",
    "import pickle\n",
    "from PIL import Image\n",
    "import os\n",
    "import feature\n",
    "from sklearn.utils import Bunch\n",
    "from sklearn.model_selection import train_test_split\n",
    "from ensemble import AdaBoostClassifier\n",
    "from sklearn.tree import DecisionTreeClassifier\n",
    "from sklearn.metrics import classification_report"
   ],
   "metadata": {
    "collapsed": false,
    "pycharm": {
     "name": "#%%\n"
    }
   }
  },
  {
   "cell_type": "markdown",
   "source": [
    "## 预处理"
   ],
   "metadata": {
    "collapsed": false,
    "pycharm": {
     "name": "#%% md\n"
    }
   }
  },
  {
   "cell_type": "code",
   "execution_count": 6,
   "outputs": [],
   "source": [
    "def image_preprocess(path):\n",
    "    \"\"\"转化为24*24的灰度图片,提取特征\"\"\"\n",
    "    face_dir = os.path.join(path, 'face')\n",
    "    nonface_dir = os.path.join(path, 'nonface')\n",
    "    file_list1 = os.listdir(os.path.join(path, 'face'))\n",
    "    file_list2 = os.listdir(os.path.join(path, 'nonface'))\n",
    "    image_list1 = []\n",
    "    image_list2 = []\n",
    "    bun = Bunch()\n",
    "    for f in file_list1:\n",
    "        img = Image.open(os.path.join(face_dir, str(f)))\n",
    "        img = img.convert('L')\n",
    "        img = img.resize((24, 24), Image.ANTIALIAS)\n",
    "        img = np.array(img)\n",
    "        img = feature.NPDFeature(img).extract()\n",
    "        image_list1.append(img)\n",
    "    for f in file_list2:\n",
    "        img = Image.open(os.path.join(nonface_dir, str(f)))\n",
    "        img = img.convert('L')\n",
    "        img = img.resize((24, 24), Image.ANTIALIAS)\n",
    "        img = np.array(img)\n",
    "        img = feature.NPDFeature(img).extract()\n",
    "        image_list2.append(img)\n",
    "    bun.data = np.array(image_list1 + image_list2)\n",
    "    target1 = np.full_like(np.empty((len(image_list1), 1)), 1)\n",
    "    target2 = np.full_like(np.empty((len(image_list2), 1)), 0)\n",
    "    bun.target = np.append(target1, target2)\n",
    "    pickle.dump(bun, open('./face_data.pkl', 'wb'))\n",
    "    return bun\n",
    "\n",
    "\n"
   ],
   "metadata": {
    "collapsed": false,
    "pycharm": {
     "name": "#%%\n"
    }
   }
  },
  {
   "cell_type": "markdown",
   "source": [
    "## 划分测试集训练集\n",
    "保存为pickle"
   ],
   "metadata": {
    "collapsed": false,
    "pycharm": {
     "name": "#%% md\n"
    }
   }
  },
  {
   "cell_type": "code",
   "execution_count": 7,
   "outputs": [
    {
     "name": "stdout",
     "output_type": "stream",
     "text": [
      "finish preprocess\n"
     ]
    },
    {
     "data": {
      "text/plain": "((200, 165600), (800, 165600))"
     },
     "execution_count": 7,
     "metadata": {},
     "output_type": "execute_result"
    }
   ],
   "source": [
    "path = './datasets/original'"
   ],
   "metadata": {
    "collapsed": false,
    "pycharm": {
     "name": "#%%\n"
    }
   }
  },
  {
   "cell_type": "markdown",
   "source": [
    "第一次运行先跑这一行代码，将预处理后的特征数据保存到缓存中，后面可以将其注释掉"
   ],
   "metadata": {
    "collapsed": false,
    "pycharm": {
     "name": "#%% md\n"
    }
   }
  },
  {
   "cell_type": "code",
   "execution_count": null,
   "outputs": [],
   "source": [
    "data = image_preprocess(path=path)  # 第一次运行先跑这一行代码，后面可以将其注释"
   ],
   "metadata": {
    "collapsed": false,
    "pycharm": {
     "name": "#%%\n"
    }
   }
  },
  {
   "cell_type": "code",
   "source": [
    "data = pickle.load(open('./face_data.pkl', 'rb'))\n",
    "print('finish preprocess')\n",
    "\n",
    "X_train, X_val, y_train, y_val = train_test_split(data.data, data.target, test_size=0.2, shuffle=True)\n",
    "\n",
    "X_val.shape, X_train.shape"
   ],
   "metadata": {
    "collapsed": false,
    "pycharm": {
     "name": "#%%\n"
    }
   },
   "execution_count": null,
   "outputs": []
  },
  {
   "cell_type": "markdown",
   "source": [
    "## 开始训练与校验"
   ],
   "metadata": {
    "collapsed": false,
    "pycharm": {
     "name": "#%% md\n",
     "is_executing": true
    }
   }
  },
  {
   "cell_type": "code",
   "source": [
    "clf = AdaBoostClassifier(DecisionTreeClassifier, 10)\n",
    "clf.fit(X_train, y_train)\n",
    "\n",
    "pred = clf.predict(X_val)\n",
    "print(classification_report(y_val, pred))\n",
    "\n"
   ],
   "metadata": {
    "collapsed": false,
    "pycharm": {
     "name": "#%%\n"
    }
   },
   "execution_count": null,
   "outputs": []
  }
 ],
 "metadata": {
  "kernelspec": {
   "display_name": "Python 3",
   "language": "python",
   "name": "python3"
  },
  "language_info": {
   "codemirror_mode": {
    "name": "ipython",
    "version": 2
   },
   "file_extension": ".py",
   "mimetype": "text/x-python",
   "name": "python",
   "nbconvert_exporter": "python",
   "pygments_lexer": "ipython2",
   "version": "2.7.6"
  }
 },
 "nbformat": 4,
 "nbformat_minor": 0
}