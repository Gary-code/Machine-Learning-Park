{
 "cells": [
  {
   "cell_type": "markdown",
   "metadata": {
    "collapsed": true,
    "pycharm": {
     "name": "#%% md\n"
    }
   },
   "source": [
    "# K-Means算法\n",
    "\n",
    "> 使用[corpus_train.txt](./corpus_train.txt)中文本数据集对单词进行聚类\n"
   ]
  },
  {
   "cell_type": "code",
   "execution_count": 46,
   "outputs": [],
   "source": [
    "from sklearn.feature_extraction.text import TfidfTransformer\n",
    "from sklearn.feature_extraction.text import CountVectorizer\n",
    "\n",
    "import matplotlib.pyplot as plt\n",
    "from sklearn.cluster import KMeans\n",
    "from scipy.spatial.distance import cdist\n",
    "import numpy as np"
   ],
   "metadata": {
    "collapsed": false,
    "pycharm": {
     "name": "#%%\n"
    }
   }
  },
  {
   "cell_type": "markdown",
   "source": [
    "## 数据预处理\n",
    "输入数据向量化"
   ],
   "metadata": {
    "collapsed": false,
    "pycharm": {
     "name": "#%% md\n"
    }
   }
  },
  {
   "cell_type": "code",
   "execution_count": 47,
   "outputs": [],
   "source": [
    "def tfidf_vector(corpus_path):\n",
    "    \"\"\"向量化函数\"\"\"\n",
    "    corpus_train = []  # 用于提取特征\n",
    "    target_train = []\n",
    "    for line in open(corpus_path):\n",
    "        line = line.strip().split('\\t')\n",
    "        if len(line) == 2:\n",
    "            words = line[1]\n",
    "            category = line[0]\n",
    "            target_train.append(category)\n",
    "            corpus_train.append(words)\n",
    "    print (\"build train-corpus done!!\")\n",
    "    count_v1 = CountVectorizer(max_df=0.4, min_df=0.01)  # 忽略高于或者低于阈值的词\n",
    "    counts_train = count_v1.fit_transform(corpus_train)  # 索引-词频\n",
    "    print(count_v1.get_feature_names())\n",
    "    word_dict = {}\n",
    "    for index, word in enumerate(count_v1.get_feature_names()):\n",
    "        word_dict[index] = word\n",
    "\n",
    "    print('Shape of train is', repr(counts_train.shape))\n",
    "    # 转化为术语的频率\n",
    "    tfidftransformer = TfidfTransformer()\n",
    "    tfidf_train = tfidftransformer.fit_transform(counts_train)  # 标准化的tf-idf\n",
    "    return tfidf_train, word_dict"
   ],
   "metadata": {
    "collapsed": false,
    "pycharm": {
     "name": "#%%\n"
    }
   }
  },
  {
   "cell_type": "markdown",
   "source": [
    "## K-Means算法\n",
    "聚类代码"
   ],
   "metadata": {
    "collapsed": false,
    "pycharm": {
     "name": "#%% md\n"
    }
   }
  },
  {
   "cell_type": "code",
   "execution_count": 48,
   "outputs": [],
   "source": [
    "def cluster_kmeans(tfidf_train, word_dict, cluster_doc, cluster_keywords, num_clusters):\n",
    "    f_doc = open(cluster_doc, 'w+')\n",
    "    km = KMeans(n_clusters=num_clusters)\n",
    "    km.fit(tfidf_train)\n",
    "    clusters = km.labels_.tolist()\n",
    "    cluster_dict = {}\n",
    "    order_centroids = km.cluster_centers_.argsort()[:,::-1]\n",
    "    doc = 1\n",
    "    for cluster in clusters:\n",
    "        f_doc.write(str(str(doc)) + ',' + str(cluster) + '\\n')\n",
    "        doc = doc + 1\n",
    "        if cluster not in cluster_dict:\n",
    "            cluster_dict[cluster] = 1\n",
    "        else:\n",
    "            cluster_dict[cluster] = cluster_dict[cluster] + 1\n",
    "    f_doc.close()\n",
    "    cluster = 1\n",
    "\n",
    "    f_clusterwords = open(cluster_keywords, 'w+')\n",
    "    for ind in order_centroids: # 每个类别选50歌词\n",
    "        words = []\n",
    "        for index in ind[:50]:\n",
    "            words.append(word_dict[index])\n",
    "        print(cluster, ','.join(words))\n",
    "        f_clusterwords.write(str(cluster) + '\\t' + ','.join(words) + '\\n')\n",
    "        cluster = cluster + 1\n",
    "        print('=====' * 50)\n",
    "    f_clusterwords.close()\n"
   ],
   "metadata": {
    "collapsed": false,
    "pycharm": {
     "name": "#%%\n"
    }
   }
  },
  {
   "cell_type": "markdown",
   "source": [
    "选择K的值"
   ],
   "metadata": {
    "collapsed": false
   }
  },
  {
   "cell_type": "code",
   "execution_count": 49,
   "outputs": [],
   "source": [
    "def best_kmeans(tfidf_matrix, word_dict):\n",
    "    K = range(1, 10)\n",
    "    meandistortions = []\n",
    "    for k in K:\n",
    "        print (k), ('====='*5)\n",
    "        kmeans = KMeans(n_clusters=k)\n",
    "        kmeans.fit(tfidf_matrix)\n",
    "        meandistortions.append(sum(np.min(cdist(tfidf_matrix.toarray(), kmeans.cluster_centers_, 'euclidean'), axis=1)) / tfidf_matrix.shape[0])\n",
    "    plt.plot(K, meandistortions, 'bx-')\n",
    "    plt.grid(True)\n",
    "    plt.xlabel('Number of clusters')\n",
    "    plt.ylabel('Average within-cluster sum of squares')\n",
    "    plt.title('Elbow for Kmeans clustering')\n",
    "    plt.show()\n",
    "\n",
    "\n"
   ],
   "metadata": {
    "collapsed": false,
    "pycharm": {
     "name": "#%%\n"
    }
   }
  },
  {
   "cell_type": "markdown",
   "source": [
    "## 开始训练"
   ],
   "metadata": {
    "collapsed": false,
    "pycharm": {
     "name": "#%% md\n"
    }
   }
  },
  {
   "cell_type": "code",
   "execution_count": 50,
   "outputs": [
    {
     "name": "stdout",
     "output_type": "stream",
     "text": [
      "build train-corpus done!!\n",
      "['abaaoud', 'abdeslam', 'act', 'action', 'added', 'afghanistan', 'africa', 'air', 'airstrikes', 'al', 'america', 'american', 'anti', 'area', 'armed', 'army', 'arrested', 'asked', 'assad', 'atrocity', 'attack', 'attacker', 'attacks', 'authority', 'band', 'bank', 'bataclan', 'bbc', 'belgian', 'belgium', 'believed', 'blair', 'blast', 'blood', 'body', 'bomb', 'bomber', 'bombing', 'border', 'britain', 'british', 'brother', 'brussels', 'bus', 'bush', 'business', 'call', 'called', 'cameron', 'campaign', 'capital', 'car', 'cell', 'cent', 'centre', 'change', 'chief', 'child', 'city', 'claim', 'clarke', 'close', 'common', 'community', 'company', 'concern', 'concert', 'cop', 'corbyn', 'country', 'crime', 'cross', 'cup', 'cut', 'david', 'day', 'de', 'dead', 'death', 'defence', 'didn', 'died', 'doe', 'don', 'drone', 'due', 'east', 'economic', 'emergency', 'emwazi', 'enemy', 'england', 'eu', 'europe', 'european', 'event', 'evil', 'expert', 'explosion', 'explosive', 'extremist', 'fa', 'face', 'family', 'fan', 'father', 'fear', 'feel', 'fight', 'financial', 'flat', 'football', 'force', 'foreign', 'france', 'french', 'friday', 'friend', 'friendly', 'g8', 'game', 'germany', 'give', 'glasgow', 'global', 'good', 'government', 'great', 'ground', 'group', 'gun', 'gunman', 'hand', 'happened', 'hate', 'head', 'heard', 'held', 'high', 'hit', 'hollande', 'home', 'hope', 'horror', 'hospital', 'hostage', 'hotel', 'hour', 'house', 'human', 'image', 'including', 'information', 'injured', 'innocent', 'intelligence', 'international', 'involved', 'iraq', 'isi', 'isis', 'islam', 'islamic', 'islamist', 'israel', 'israeli', 'jihadi', 'jihadist', 'john', 'kill', 'killed', 'killer', 'killing', 'kind', 'king', 'la', 'labour', 'law', 'le', 'leader', 'leeds', 'left', 'life', 'live', 'local', 'london', 'long', 'lord', 'loss', 'love', 'madrid', 'major', 'man', 'market', 'match', 'measure', 'medium', 'meeting', 'member', 'men', 'message', 'mi5', 'middle', 'migrant', 'military', 'million', 'minister', 'minute', 'missing', 'month', 'morning', 'mosque', 'mother', 'mp', 'muslim', 'nation', 'national', 'news', 'night', 'north', 'number', 'obama', 'office', 'officer', 'official', 'oil', 'olympic', 'olympics', 'open', 'operation', 'order', 'page', 'pakistan', 'paris', 'part', 'party', 'passenger', 'passport', 'people', 'phone', 'picture', 'place', 'plan', 'play', 'player', 'pm', 'point', 'police', 'policy', 'political', 'power', 'president', 'price', 'public', 'put', 'putin', 'qaeda', 'question', 'radical', 'raid', 'raqqa', 'refugee', 'religion', 'religious', 'report', 'republican', 'response', 'restaurant', 'risk', 'road', 'russia', 'russian', 'safe', 'saturday', 'scene', 'school', 'scotland', 'secretary', 'security', 'service', 'set', 'shadow', 'share', 'shooting', 'shot', 'show', 'silence', 'site', 'society', 'solidarity', 'son', 'source', 'special', 'sport', 'square', 'st', 'stadium', 'staff', 'stand', 'started', 'state', 'statement', 'station', 'stock', 'stop', 'story', 'street', 'strike', 'suicide', 'summit', 'sun', 'sunday', 'support', 'suspect', 'syria', 'syrian', 'system', 'talk', 'target', 'team', 'terror', 'terrorism', 'terrorist', 'terrorists', 'thought', 'threat', 'thursday', 'time', 'today', 'told', 'top', 'town', 'train', 'transport', 'travel', 'tribute', 'tube', 'tuesday', 'uk', 'underground', 'united', 've', 'victim', 'video', 'violence', 'war', 'weapon', 'week', 'weekend', 'wembley', 'west', 'western', 'white', 'win', 'woman', 'word', 'work', 'world', 'year', 'yesterday', 'york', 'young']\n",
      "Shape of train is (1610, 362)\n",
      "1\n",
      "2\n",
      "3\n",
      "4\n",
      "5\n",
      "6\n",
      "7\n",
      "8\n",
      "9\n"
     ]
    },
    {
     "data": {
      "text/plain": "<Figure size 432x288 with 1 Axes>",
      "image/png": "[encoded data removed]"
     },
     "metadata": {
      "needs_background": "light"
     },
     "output_type": "display_data"
    },
    {
     "name": "stdout",
     "output_type": "stream",
     "text": [
      "1 paris,belgian,france,french,police,europe,attack,european,border,eu,syria,brussels,abaaoud,belgium,terrorist,intelligence,country,security,refugee,passport,isi,minister,abdeslam,attacks,brother,suicide,migrant,people,state,year,yesterday,arrested,national,terror,car,terrorism,man,raid,hollande,authority,travel,syrian,told,attacker,friday,night,information,government,men,meeting\n",
      "=========================\n",
      "2 london,day,week,people,attack,security,terrorist,year,police,world,market,time,yesterday,city,terrorists,thursday,terror,company,cut,business,bomb,g8,force,home,leader,olympic,service,high,government,blair,terrorism,officer,price,economic,today,event,financial,olympics,war,group,country,stock,share,message,number,armed,street,bank,public,summit\n",
      "=========================\n",
      "3 game,england,match,france,football,player,team,french,paris,wembley,stadium,fan,night,friday,friendly,germany,play,fa,world,cup,show,security,time,tuesday,united,people,weekend,day,attack,terrorist,solidarity,national,sport,win,week,event,police,good,le,happened,de,country,added,place,european,year,ground,la,terror,ve\n",
      "=========================\n",
      "4 bus,london,bomb,train,people,tube,station,police,blast,work,body,bomber,family,hospital,yesterday,underground,square,missing,leeds,street,cross,king,terrorist,road,friend,officer,told,time,home,thursday,bombing,thought,service,passenger,explosion,explosive,dead,victim,man,city,attack,area,picture,left,injured,phone,life,night,morning,west\n",
      "=========================\n",
      "5 paris,french,people,attack,france,friend,life,told,night,bataclan,family,concert,world,victim,terrorist,time,terror,friday,police,gunman,killed,band,young,shot,show,city,dead,heard,woman,man,death,shooting,thought,son,restaurant,died,year,yesterday,le,school,home,child,don,love,minute,event,attacks,fear,didn,day\n",
      "=========================\n",
      "6 isi,syria,isis,syrian,cameron,paris,military,war,attack,state,force,group,assad,president,refugee,country,terrorist,labour,western,corbyn,emwazi,support,security,russian,leader,british,obama,people,strike,russia,airstrikes,defence,britain,policy,mp,party,raqqa,iraq,world,putin,france,government,international,drone,uk,action,american,west,islamic,fight\n",
      "=========================\n",
      "7 muslim,britain,british,london,attack,terrorism,al,iraq,people,terrorist,police,islamic,community,terror,bombing,qaeda,group,blair,islam,terrorists,government,intelligence,suicide,war,uk,bomber,year,country,security,extremist,bomb,yesterday,home,world,minister,leader,young,threat,mi5,act,time,mosque,mp,religious,paris,political,attacks,man,west,men\n",
      "=========================\n"
     ]
    }
   ],
   "source": [
    "corpus_train = \"corpus_train.txt\"\n",
    "cluster_docs = \"cluster_result_document.txt\"\n",
    "cluster_keywords = \"cluster_result_keyword.txt\"\n",
    "num_clusters = 7\n",
    "tfidf_train,word_dict = tfidf_vector(corpus_train)\n",
    "best_kmeans(tfidf_train,word_dict)\n",
    "cluster_kmeans(tfidf_train,word_dict,cluster_docs,cluster_keywords,num_clusters)\n"
   ],
   "metadata": {
    "collapsed": false,
    "pycharm": {
     "name": "#%%\n"
    }
   }
  }
 ],
 "metadata": {
  "kernelspec": {
   "display_name": "Python 3",
   "language": "python",
   "name": "python3"
  },
  "language_info": {
   "codemirror_mode": {
    "name": "ipython",
    "version": 2
   },
   "file_extension": ".py",
   "mimetype": "text/x-python",
   "name": "python",
   "nbconvert_exporter": "python",
   "pygments_lexer": "ipython2",
   "version": "2.7.6"
  }
 },
 "nbformat": 4,
 "nbformat_minor": 0
}