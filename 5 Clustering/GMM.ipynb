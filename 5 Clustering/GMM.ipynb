{
 "cells": [
  {
   "cell_type": "markdown",
   "metadata": {
    "collapsed": true,
    "pycharm": {
     "name": "#%% md\n"
    }
   },
   "source": [
    "# GMM 算法\n",
    "> GMM从零开始实现\n",
    "> \n",
    "> 模拟两个正态分布的参数"
   ]
  },
  {
   "cell_type": "code",
   "execution_count": null,
   "outputs": [],
   "source": [
    "from numpy import *\n",
    "import numpy as np\n",
    "import random\n",
    "import copy\n",
    "import matplotlib.pyplot as plt"
   ],
   "metadata": {
    "collapsed": false,
    "pycharm": {
     "name": "#%%\n"
    }
   }
  },
  {
   "cell_type": "markdown",
   "source": [
    "均值不同样本"
   ],
   "metadata": {
    "collapsed": false,
    "pycharm": {
     "name": "#%% md\n"
    }
   }
  },
  {
   "cell_type": "code",
   "execution_count": null,
   "outputs": [],
   "source": [
    "def generate_data():\n",
    "    mu1 = 2\n",
    "    mu2 = 6\n",
    "    sigma1 = 0.1\n",
    "    sigma2 = 0.5\n",
    "    alpha1 = 0.4\n",
    "    alpha2 = 0.6\n",
    "    N = 5000\n",
    "    N1 = int(alpha1 * N)\n",
    "    X = mat(zeros((N,1)))\n",
    "    for i in range(N1):\n",
    "        u1 = random.uniform(-1,1)\n",
    "        X[i] = u1 * sigma1 + mu1\n",
    "    for i in range(N-N1):\n",
    "        u1 = random.uniform(-1,1)\n",
    "        X[i+N1] = u1 * sigma2 + mu2\n",
    "    return X\n"
   ],
   "metadata": {
    "collapsed": false,
    "pycharm": {
     "name": "#%%\n"
    }
   }
  },
  {
   "cell_type": "markdown",
   "source": [
    "EM过程"
   ],
   "metadata": {
    "collapsed": false,
    "pycharm": {
     "name": "#%% md\n"
    }
   }
  },
  {
   "cell_type": "code",
   "execution_count": null,
   "outputs": [],
   "source": [
    "def GMM(X):\n",
    "    EPS = 0.0001\n",
    "    k = 2\n",
    "    N = len(X)\n",
    "    mu = np.random.rand(k,1)\n",
    "    print (str('init mu='))\n",
    "    print (mu)\n",
    "    Posterior = mat(zeros((N,k)))\n",
    "    sigma = np.random.rand(k,1)\n",
    "    print (str('init sigma='))\n",
    "    print (sigma)\n",
    "    alpha = np.random.rand(k,1)\n",
    "    dominator = 0\n",
    "    numerator = 0\n",
    "    print (str('init alpha='))\n",
    "    print (alpha)\n",
    "    #先求后验概率\n",
    "    #print (sigma)\n",
    "    for it in range(1000):\n",
    "        for i in range(N):\n",
    "            dominator = 0\n",
    "            for j in range(k):\n",
    "                dominator = dominator + np.exp(-1.0/(2.0*sigma[j]) * (X[i] - mu[j])**2)\n",
    "            #print -1.0/(2.0*sigma[j]),(X[i] - mu[j])**2,-1.0/(2.0*sigma[j]) * (X[i] - mu[j])**2,np.exp(-1.0/(2.0*sigma[j]) * (X[i] - mu[j])**2)\n",
    "            #return\n",
    "            for j in range(k):\n",
    "                numerator = np.exp(-1.0/(2.0*sigma[j]) * (X[i] - mu[j])**2)\n",
    "                Posterior[i,j] = numerator/dominator\n",
    "        oldmu = copy.deepcopy(mu)\n",
    "        oldalpha = copy.deepcopy(alpha)\n",
    "        oldsigma = copy.deepcopy(sigma)\n",
    "        #最大化\n",
    "        for j in range(k):\n",
    "            numerator = 0\n",
    "            dominator = 0\n",
    "            for i in range(N):\n",
    "                numerator = numerator + Posterior[i,j] * X[i]\n",
    "                dominator = dominator + Posterior[i,j]\n",
    "            mu[j] = numerator/dominator\n",
    "            alpha[j] = dominator/N\n",
    "            tmp = 0\n",
    "            for i in range(N):\n",
    "                tmp = tmp + Posterior[i,j] * (X[i] - mu[j])**2\n",
    "            #print tmp,Posterior[i,j],(X[i] - mu[j])**2\n",
    "            sigma[j] = tmp/dominator\n",
    "        #print (tmp)\n",
    "        #print (dominator)\n",
    "        #print (sigma[j])\n",
    "        if ((abs(mu - oldmu)).sum() < EPS) and ((abs(alpha - oldalpha)).sum() < EPS) and ((abs(sigma - oldsigma)).sum() < EPS):\n",
    "            print (str('final mu='))\n",
    "            print (str(mu))\n",
    "            print (str('final sigma='))\n",
    "            print (str(sigma))\n",
    "            print (str('final alpha='))\n",
    "            print (str(alpha))\n",
    "            print (it)\n",
    "            break\n"
   ],
   "metadata": {
    "collapsed": false,
    "pycharm": {
     "name": "#%%\n"
    }
   }
  },
  {
   "cell_type": "markdown",
   "source": [
    "开始训练"
   ],
   "metadata": {
    "collapsed": false,
    "pycharm": {
     "name": "#%% md\n"
    }
   }
  },
  {
   "cell_type": "code",
   "execution_count": null,
   "outputs": [],
   "source": [
    "X = generate_data()\n",
    "plt.hist(X, 30, normed=True)\n",
    "plt.show()\n",
    "GMM(X)"
   ],
   "metadata": {
    "collapsed": false,
    "pycharm": {
     "name": "#%%\n"
    }
   }
  }
 ],
 "metadata": {
  "kernelspec": {
   "display_name": "Python 3",
   "language": "python",
   "name": "python3"
  },
  "language_info": {
   "codemirror_mode": {
    "name": "ipython",
    "version": 2
   },
   "file_extension": ".py",
   "mimetype": "text/x-python",
   "name": "python",
   "nbconvert_exporter": "python",
   "pygments_lexer": "ipython2",
   "version": "2.7.6"
  }
 },
 "nbformat": 4,
 "nbformat_minor": 0
}