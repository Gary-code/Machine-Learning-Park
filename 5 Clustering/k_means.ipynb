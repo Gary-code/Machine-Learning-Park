{
 "cells": [
  {
   "cell_type": "markdown",
   "metadata": {
    "collapsed": true,
    "pycharm": {
     "name": "#%% md\n"
    }
   },
   "source": [
    "# 从零开始实现K_Means算法"
   ]
  },
  {
   "cell_type": "code",
   "execution_count": 1,
   "outputs": [],
   "source": [
    "import numpy as np\n",
    "import matplotlib.pyplot as plt"
   ],
   "metadata": {
    "collapsed": false,
    "pycharm": {
     "name": "#%%\n"
    }
   }
  },
  {
   "cell_type": "markdown",
   "source": [
    "随机生成一些数据"
   ],
   "metadata": {
    "collapsed": false,
    "pycharm": {
     "name": "#%% md\n"
    }
   }
  },
  {
   "cell_type": "code",
   "execution_count": 2,
   "outputs": [],
   "source": [
    "# 先在四个中心点附近产生一堆数据\n",
    "real_center = [(1, 1), (1, 2), (2, 2), (2, 1)]\n",
    "point_number = 50\n",
    "\n",
    "points_x = []\n",
    "points_y = []\n",
    "\n",
    "for center in real_center:\n",
    "    offset_x, offset_y = np.random.randn(point_number) * 0.3, np.random.randn(point_number) * 0.25\n",
    "    x_val, y_val = center[0] + offset_x, center[1] + offset_y\n",
    "\n",
    "    points_x.append(x_val)\n",
    "    points_y.append(y_val)\n",
    "\n",
    "points_x = np.concatenate(points_x)\n",
    "points_y = np.concatenate(points_y)"
   ],
   "metadata": {
    "collapsed": false,
    "pycharm": {
     "name": "#%%\n"
    }
   }
  },
  {
   "cell_type": "markdown",
   "source": [
    "我们以 (1, 1), (1, 2), (2, 2), (2, 1) 四个点为中心产生了随机分布的点，如果我们的聚类算法正确的话，我们找到的中心点应该和这四个点很接近。先用简单的语言描述 kmeans 算法步骤：\n",
    "\n",
    "第一步 - 随机选择 K 个点作为点的聚类中心，这表示我们要将数据分为 K 类。\n",
    "第二步 - 遍历所有的点 P, 算出 P 到每个聚类中心的距离，将 P 放到最近的聚类中心的点集中。遍历结束后我们将得到 K 个点集。\n",
    "第三步 - 遍历每一个点集，算出每一个点集的中心位置，将其作为新的聚类中心。\n",
    "第四步 - 重复步骤 2 和步骤 3，直到聚类中心位置不再移动。\n"
   ],
   "metadata": {
    "collapsed": false,
    "pycharm": {
     "name": "#%% md\n"
    }
   }
  },
  {
   "cell_type": "markdown",
   "source": [
    "设置参数"
   ],
   "metadata": {
    "collapsed": false,
    "pycharm": {
     "name": "#%% md\n"
    }
   }
  },
  {
   "cell_type": "code",
   "execution_count": 3,
   "outputs": [],
   "source": [
    "K = 4\n",
    "p_list = np.stack([points_x, points_y], axis=1)\n",
    "index = np.random.choice(len(p_list), size=K)  # 随机选取中心点\n",
    "centeroid = p_list[index]\n"
   ],
   "metadata": {
    "collapsed": false,
    "pycharm": {
     "name": "#%%\n"
    }
   }
  },
  {
   "cell_type": "markdown",
   "source": [
    "第二步是计算每一个点和聚类中心的距离，然后将点放入最近的聚类中心的集合中。"
   ],
   "metadata": {
    "collapsed": false,
    "pycharm": {
     "name": "#%% md\n"
    }
   }
  },
  {
   "cell_type": "code",
   "execution_count": 4,
   "outputs": [],
   "source": [
    "points_set = {key: [] for key in range(K)}\n",
    "\n",
    "for p in p_list:\n",
    "    nearest_index = np.argmin(np.sum((centeroid - p) ** 2, axis=1) ** 0.5)\n",
    "    points_set[nearest_index].append(p)"
   ],
   "metadata": {
    "collapsed": false,
    "pycharm": {
     "name": "#%%\n"
    }
   }
  },
  {
   "cell_type": "markdown",
   "source": [
    "第三步，遍历每一个点集，计算新的聚类中心"
   ],
   "metadata": {
    "collapsed": false,
    "pycharm": {
     "name": "#%% md\n"
    }
   }
  },
  {
   "cell_type": "code",
   "execution_count": 5,
   "outputs": [],
   "source": [
    "for k_index, p_set in points_set.items():\n",
    "    p_xs = [p[0] for p in p_set]\n",
    "    p_ys = [p[1] for p in p_set]\n",
    "    centeroid[k_index, 0] = sum(p_xs) / len(p_set)\n",
    "    centeroid[k_index, 1] = sum(p_ys) / len(p_set)"
   ],
   "metadata": {
    "collapsed": false,
    "pycharm": {
     "name": "#%%\n"
    }
   }
  },
  {
   "cell_type": "markdown",
   "source": [
    "第四步，重复进行以上步骤，我们迭代epoch次，观察一下聚类中心位置的变化："
   ],
   "metadata": {
    "collapsed": false,
    "pycharm": {
     "name": "#%% md\n"
    }
   }
  },
  {
   "cell_type": "code",
   "execution_count": 6,
   "outputs": [
    {
     "name": "stdout",
     "output_type": "stream",
     "text": [
      "[[1.018566   0.92289767]\n",
      " [1.99091619 0.99461627]\n",
      " [1.00965273 1.91978773]\n",
      " [2.06349812 1.99903516]]\n"
     ]
    }
   ],
   "source": [
    "epoch = 10\n",
    "for i in range(epoch):\n",
    "    points_set = {key: [] for key in range(K)}\n",
    "\n",
    "    for p in p_list:\n",
    "        nearest_index = np.argmin(np.sum((centeroid - p) ** 2, axis=1) ** 0.5)\n",
    "        points_set[nearest_index].append(p)\n",
    "\n",
    "    for k_index, p_set in points_set.items():\n",
    "        p_xs = [p[0] for p in p_set]\n",
    "        p_ys = [p[1] for p in p_set]\n",
    "        centeroid[k_index, 0] = sum(p_xs) / len(p_set)\n",
    "        centeroid[k_index, 1] = sum(p_ys) / len(p_set)\n",
    "print(centeroid)\n"
   ],
   "metadata": {
    "collapsed": false,
    "pycharm": {
     "name": "#%%\n"
    }
   }
  },
  {
   "cell_type": "markdown",
   "source": [
    "## 寻找最优K值\n",
    "> 相关理论请见[博客](https://blog.csdn.net/Garyboyboy/article/details/121865540)\n",
    "\n",
    "使用 sklearn 库中的 KMeans 方法来跑一下聚类过程，然后将到聚类中心的平均值变化作图。"
   ],
   "metadata": {
    "collapsed": false,
    "pycharm": {
     "name": "#%% md\n"
    }
   }
  },
  {
   "cell_type": "code",
   "execution_count": 7,
   "outputs": [
    {
     "data": {
      "text/plain": "<Figure size 432x288 with 1 Axes>",
      "image/png": "[encoded data removed]"
     },
     "metadata": {
      "needs_background": "light"
     },
     "output_type": "display_data"
    }
   ],
   "source": [
    "from sklearn.cluster import KMeans\n",
    "\n",
    "loss = []\n",
    "\n",
    "for i in range(1, 10):\n",
    "    kmeans = KMeans(n_clusters=i, max_iter=100).fit(p_list)\n",
    "    loss.append(kmeans.inertia_ / point_number / K)\n",
    "\n",
    "plt.plot(range(1, 10), loss)\n",
    "plt.show()"
   ],
   "metadata": {
    "collapsed": false,
    "pycharm": {
     "name": "#%%\n"
    }
   }
  }
 ],
 "metadata": {
  "kernelspec": {
   "display_name": "Python 3",
   "language": "python",
   "name": "python3"
  },
  "language_info": {
   "codemirror_mode": {
    "name": "ipython",
    "version": 2
   },
   "file_extension": ".py",
   "mimetype": "text/x-python",
   "name": "python",
   "nbconvert_exporter": "python",
   "pygments_lexer": "ipython2",
   "version": "2.7.6"
  }
 },
 "nbformat": 4,
 "nbformat_minor": 0
}