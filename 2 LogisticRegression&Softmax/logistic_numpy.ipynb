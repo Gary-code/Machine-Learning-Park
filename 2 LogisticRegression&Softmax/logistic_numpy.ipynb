{
 "cells": [
  {
   "cell_type": "markdown",
   "metadata": {
    "collapsed": true,
    "pycharm": {
     "name": "#%% md\n"
    }
   },
   "source": [
    "# 逻辑回归实现\n",
    "> numpy实现\n",
    "> 使用a9a.txt的是数据集做二分类"
   ]
  },
  {
   "cell_type": "code",
   "execution_count": 1,
   "outputs": [],
   "source": [
    "import random\n",
    "\n",
    "from sklearn.model_selection import train_test_split\n",
    "from sklearn.datasets import load_svmlight_file\n",
    "import numpy as np\n",
    "import matplotlib.pyplot as plt"
   ],
   "metadata": {
    "collapsed": false,
    "pycharm": {
     "name": "#%%\n"
    }
   }
  },
  {
   "cell_type": "markdown",
   "source": [
    "## 读取数据集\n",
    "> 使用train_test_split函数"
   ],
   "metadata": {
    "collapsed": false,
    "pycharm": {
     "name": "#%% md\n"
    }
   }
  },
  {
   "cell_type": "code",
   "execution_count": 2,
   "outputs": [],
   "source": [
    "x_val, y_val = load_svmlight_file('./a9a.txt', n_features=123)\n",
    "x_train, y_train = load_svmlight_file('./a9a_train.txt', n_features=123)\n"
   ],
   "metadata": {
    "collapsed": false,
    "pycharm": {
     "name": "#%%\n"
    }
   }
  },
  {
   "cell_type": "markdown",
   "source": [
    "## 数据预处理\n",
    "观察可以看到分类为-1,1\n",
    "\n",
    "为了方便损失函数的计算我们把-1转变成0"
   ],
   "metadata": {
    "collapsed": false,
    "pycharm": {
     "name": "#%% md\n"
    }
   }
  },
  {
   "cell_type": "code",
   "execution_count": 3,
   "outputs": [],
   "source": [
    "y_val[y_val == -1] = 0\n",
    "y_train[y_train == -1] = 0\n",
    "\n",
    "# 转换成为np\n",
    "x_train = np.array(x_train.todense())\n",
    "x_val = np.array(x_val.todense())\n",
    "y_train = np.array(y_train).reshape(len(y_train), 1)\n",
    "y_val = np.array(y_val).reshape(len(y_val), 1)"
   ],
   "metadata": {
    "collapsed": false,
    "pycharm": {
     "name": "#%%\n"
    }
   }
  },
  {
   "cell_type": "markdown",
   "source": [
    "## 参数设置"
   ],
   "metadata": {
    "collapsed": false,
    "pycharm": {
     "name": "#%% md\n"
    }
   }
  },
  {
   "cell_type": "code",
   "execution_count": 4,
   "outputs": [
    {
     "data": {
      "text/plain": "array([[0., 0., 1., ..., 0., 0., 1.],\n       [0., 0., 0., ..., 0., 0., 1.],\n       [0., 0., 1., ..., 0., 0., 1.],\n       ...,\n       [0., 0., 0., ..., 0., 0., 1.],\n       [1., 0., 0., ..., 0., 0., 1.],\n       [0., 0., 0., ..., 0., 0., 1.]])"
     },
     "execution_count": 4,
     "metadata": {},
     "output_type": "execute_result"
    }
   ],
   "source": [
    "\n",
    "\n",
    "# 插入偏置量\n",
    "b = np.ones(x_train.shape[0])\n",
    "x_train = np.insert(x_train, 123, values=b, axis=1)\n",
    "\n",
    "b = np.ones(x_val.shape[0])\n",
    "x_val = np.insert(x_val, 123, values=b, axis=1)\n",
    "\n",
    "# 超参数\n",
    "theta = np.random.normal(size=(x_train.shape[1], 1))\n",
    "\n",
    "x_train"
   ],
   "metadata": {
    "collapsed": false,
    "pycharm": {
     "name": "#%%\n"
    }
   }
  },
  {
   "cell_type": "markdown",
   "source": [
    "## 定义损失函数"
   ],
   "metadata": {
    "collapsed": false,
    "pycharm": {
     "name": "#%% md\n"
    }
   }
  },
  {
   "cell_type": "code",
   "execution_count": 5,
   "outputs": [],
   "source": [
    "def sigmoid(z):\n",
    "    \"\"\"sigmoid函数\"\"\"\n",
    "    return 1 / (1 + np.exp(-z))\n",
    "\n",
    "def logisreg(x, w):\n",
    "    \"\"\"逻辑回归模型\"\"\"\n",
    "    return x @ w\n",
    "\n",
    "def cost(model, y):\n",
    "    \"\"\"损失函数（交叉熵）\"\"\"\n",
    "    model = model.reshape(y.shape)\n",
    "    first = -y.T @ np.log(sigmoid(model))\n",
    "    second = (1 - y).T @ np.log(1 - sigmoid(model))\n",
    "    return (first - second) / len(y)\n",
    "\n",
    "def step_gradient(w_cur, x_value, y_value, lr):\n",
    "    \"\"\"\n",
    "    梯度下降\n",
    "    :param w_cur:\n",
    "    :param x_value:\n",
    "    :param y_value:\n",
    "    :param lr: 学习率\n",
    "    :return: 更新后的w参数\n",
    "    \"\"\"\n",
    "    grad = 1 / len(y_value) * x_value.T @ (sigmoid(x_value @ w_cur) - y_value)\n",
    "    new_w = w_cur - lr * grad\n",
    "    return new_w\n",
    "\n"
   ],
   "metadata": {
    "collapsed": false,
    "pycharm": {
     "name": "#%%\n"
    }
   }
  },
  {
   "cell_type": "markdown",
   "source": [
    "## 开始训练"
   ],
   "metadata": {
    "collapsed": false
   }
  },
  {
   "cell_type": "code",
   "execution_count": null,
   "outputs": [],
   "source": [
    "# 随机选取batch\n",
    "def data_iter(batch_size, features, labels):\n",
    "    num_examples = len(features)  # 样本数\n",
    "    # 这些样本是随机读取的\n",
    "    indices = list(range(num_examples))\n",
    "    random.shuffle(indices)\n",
    "    for i in range(0, num_examples, batch_size):\n",
    "        batch_indices = np.array(\n",
    "            indices[i: min(i + batch_size, num_examples)])\n",
    "        yield features[batch_indices], labels[batch_indices]\n",
    "\n",
    "\n",
    "lr = 0.03\n",
    "num_epochs = 200\n",
    "model =logisreg\n",
    "loss = cost\n",
    "batch_size = 1000\n",
    "\n",
    "for epoch in range(num_epochs):\n",
    "    for X, y in data_iter(batch_size, x_train, y_train):\n",
    "        l = loss(model(X, theta), y).sum()   # 计算损失函数\n",
    "        theta = step_gradient(theta, X, y, lr)\n",
    "    # 验证\n",
    "    l_val = loss(model(x_val, theta), y_val).sum()\n",
    "    print(f'epoch {epoch + 1}, loss_train {l:f}')\n",
    "    print(f'epoch {epoch + 1}, loss_val {l_val:f}')\n"
   ],
   "metadata": {
    "collapsed": false,
    "pycharm": {
     "name": "#%%\n"
    }
   }
  }
 ],
 "metadata": {
  "kernelspec": {
   "display_name": "Python 3",
   "language": "python",
   "name": "python3"
  },
  "language_info": {
   "codemirror_mode": {
    "name": "ipython",
    "version": 2
   },
   "file_extension": ".py",
   "mimetype": "text/x-python",
   "name": "python",
   "nbconvert_exporter": "python",
   "pygments_lexer": "ipython2",
   "version": "2.7.6"
  }
 },
 "nbformat": 4,
 "nbformat_minor": 0
}