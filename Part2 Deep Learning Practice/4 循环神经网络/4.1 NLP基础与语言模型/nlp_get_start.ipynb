{
 "cells": [
  {
   "cell_type": "markdown",
   "metadata": {
    "collapsed": true,
    "pycharm": {
     "name": "#%% md\n"
    }
   },
   "source": [
    "## 4.1 NLP基础与语言模型"
   ]
  },
  {
   "cell_type": "markdown",
   "source": [
    "### 4.1.1 序列模型\n",
    "很多数据都是具有时序信息的，比如说数字货币的收盘价格，如下图所示:\n",
    "![image-20220316165404313](https://s2.loli.net/2022/03/16/IqeFs1KoO8pDhzm.png)\n",
    "\n",
    "对序列数据来说：\n",
    "* 数据值随时间变化而变化\n",
    "* *音乐*、*语言*、*文本*、和*视频*都是连续的\n",
    "* 预测明天的股价要比填补昨天遗失的股价更困难\n",
    "\n",
    "**统计工具:**\n",
    "在时间$t$观察到$x_t$， 那么得到$T$个不独立的随机变量$(x_1,...,x_T) \\sim p(\\mathbf{x})$\n",
    "\n",
    "* 使用条件概率展开\n",
    "\n",
    "$$\n",
    "p(a, b)=p(a) p(b \\mid a)=p(b) p(a \\mid b)\n",
    "$$\n",
    "\n",
    "![image-20220204181132691](https://s2.loli.net/2022/02/04/ZuT7gXb85LvaHcN.png)\n",
    "\n",
    "* 对条件概率建模\n",
    "  * 也称为自回归模型\n",
    "\n",
    "$$\n",
    "p\\left(x_{t} \\mid x_{1}, \\ldots x_{t-1}\\right)=p\\left(x_{t} \\mid f\\left(x_{1}, \\ldots x_{t-1}\\right)\\right)\n",
    "$$\n",
    "\n",
    "**方案A - 马尔科夫假设**\n",
    "\n",
    "* 假设当前当前数据只跟$\\tau$个过去数据点相关\n",
    "\n",
    "例如在过去数据上训练一个MLP\n",
    "$$\n",
    "p\\left(x_{t} \\mid x_{1}, \\ldots x_{t-1}\\right)=p\\left(x_{t} \\mid x_{t-\\tau}, \\ldots x_{t-1}\\right)=p\\left(x_{t} \\mid f\\left(x_{t-\\tau,...,x_{t-1}}\\right)\\right.\n",
    "$$\n",
    "\n",
    "**方案B - 潜变量模型(latient variable)**\n",
    "\n",
    "* 引入潜变量$h_t$来表示过去信息$h_t=f(x_1,...,x_{t-1})$\n",
    "  * 这样$x_t=p(x_t|h_t)$\n",
    "\n",
    "![image-20220204181853244](https://s2.loli.net/2022/02/04/BI7aeqKrugTLpn3.png)"
   ],
   "metadata": {
    "collapsed": false,
    "pycharm": {
     "name": "#%% md\n"
    }
   }
  }
 ],
 "metadata": {
  "kernelspec": {
   "display_name": "Python 3",
   "language": "python",
   "name": "python3"
  },
  "language_info": {
   "codemirror_mode": {
    "name": "ipython",
    "version": 2
   },
   "file_extension": ".py",
   "mimetype": "text/x-python",
   "name": "python",
   "nbconvert_exporter": "python",
   "pygments_lexer": "ipython2",
   "version": "2.7.6"
  }
 },
 "nbformat": 4,
 "nbformat_minor": 0
}