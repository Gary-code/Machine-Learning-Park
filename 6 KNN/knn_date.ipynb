{
 "cells": [
  {
   "cell_type": "markdown",
   "metadata": {
    "collapsed": true,
    "pycharm": {
     "name": "#%% md\n"
    }
   },
   "source": [
    "# 约会网站匹配问题\n",
    "> KNN算法解决\n",
    "\n",
    "海伦使用约会网站寻找约会对象。经过一段时间之后，她发现曾交往过三种类型的人:\n",
    "\n",
    "- 不喜欢的人\n",
    "- 魅力一般的人\n",
    "- 极具魅力的人\n",
    "\n",
    "她希望:\n",
    "\n",
    "1. 工作日与魅力一般的人约会\n",
    "2. 周末与极具魅力的人约会\n",
    "3. 不喜欢的人则直接排除掉\n",
    "\n",
    "现在她收集到了一些约会网站未曾记录的数据信息，这更有助于匹配对象的归类。\n",
    "\n",
    "总共有 1000 行。海伦约会的对象主要包含以下 3 种特征:\n",
    "\n",
    "- 每年获得的飞行常客里程数\n",
    "- 玩视频游戏所耗时间百分比\n",
    "- 每周消费的冰淇淋公升数\n",
    "\n",
    "[数据集](./datingTestSet2.txt)示例如下：\n",
    "\n",
    "```\n",
    "40920    8.326976    0.953952    3\n",
    "14488    7.153469    1.673904    2\n",
    "26052    1.441871    0.805124    1\n",
    "75136    13.147394    0.428964    1\n",
    "38344    1.669788    0.134296    1\n",
    "\n",
    "```"
   ]
  },
  {
   "cell_type": "code",
   "execution_count": null,
   "outputs": [],
   "source": [],
   "metadata": {
    "collapsed": false,
    "pycharm": {
     "name": "#%%\n"
    }
   }
  }
 ],
 "metadata": {
  "kernelspec": {
   "display_name": "Python 3",
   "language": "python",
   "name": "python3"
  },
  "language_info": {
   "codemirror_mode": {
    "name": "ipython",
    "version": 2
   },
   "file_extension": ".py",
   "mimetype": "text/x-python",
   "name": "python",
   "nbconvert_exporter": "python",
   "pygments_lexer": "ipython2",
   "version": "2.7.6"
  }
 },
 "nbformat": 4,
 "nbformat_minor": 0
}