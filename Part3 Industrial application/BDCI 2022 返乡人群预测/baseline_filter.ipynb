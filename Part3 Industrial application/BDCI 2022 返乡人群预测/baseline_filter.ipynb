{
 "cells": [
  {
   "cell_type": "code",
   "execution_count": 138,
   "metadata": {
    "id": "ytRLYnatGEW2",
    "executionInfo": {
     "status": "ok",
     "timestamp": 1667788049915,
     "user_tz": -480,
     "elapsed": 4,
     "user": {
      "displayName": "ZJ G",
      "userId": "11899905932610705110"
     }
    },
    "pycharm": {
     "name": "#%%\n"
    }
   },
   "outputs": [],
   "source": [
    "if True:\n",
    "  import nltk\n",
    "  import re\n",
    "  import os\n",
    "  import pandas as pd\n",
    "  import numpy as np\n",
    "  import scipy.sparse as sp\n",
    "  import lightgbm as lgb\n",
    "  import scipy.sparse as sp\n",
    "\n",
    "  from sklearn.preprocessing import LabelEncoder\n",
    "  from sklearn.model_selection import StratifiedKFold\n",
    "  from sklearn.decomposition import LatentDirichletAllocation, NMF, TruncatedSVD\n",
    "  from sklearn.linear_model import LogisticRegression, SGDClassifier\n",
    "  from sklearn import metrics\n",
    "  from sklearn.metrics import f1_score\n",
    "  from sklearn.feature_extraction.text import TfidfVectorizer\n",
    "  from sklearn.metrics import roc_auc_score, f1_score, recall_score, precision_score, classification_report\n",
    "  from urllib.parse import unquote, urlparse, quote\n",
    "  from sklearn.feature_extraction.text import TfidfVectorizer\n",
    "  from tqdm import tqdm\n",
    "\n",
    "  import warnings\n",
    "  warnings.filterwarnings('ignore')\n",
    "\n",
    "  import seaborn as sns\n",
    "  import matplotlib.pyplot as plt\n",
    "  from matplotlib.ticker import PercentFormatter\n",
    "  from matplotlib.pyplot import MultipleLocator\n",
    "  %matplotlib inline\n",
    "\n",
    "  from pandas.api.types import is_datetime64_any_dtype as is_datetime\n",
    "  from pandas.api.types import is_categorical_dtype\n",
    "  import random\n",
    "  import math"
   ]
  },
  {
   "cell_type": "code",
   "execution_count": 141,
   "metadata": {
    "id": "aREH_tvnSgNe",
    "executionInfo": {
     "status": "ok",
     "timestamp": 1667788052431,
     "user_tz": -480,
     "elapsed": 3,
     "user": {
      "displayName": "ZJ G",
      "userId": "11899905932610705110"
     }
    },
    "pycharm": {
     "name": "#%%\n"
    }
   },
   "outputs": [],
   "source": [
    "def reduce_mem_usage(df, use_float16=False):\n",
    "  \"\"\"\n",
    "  遍历数据帧的所有列并修改数据类型以减少内存使用。\n",
    "  \"\"\"\n",
    "\n",
    "  start_mem = df.memory_usage().sum() / 1024**2\n",
    "  print(\"Memory usage of dataframe is {:.2f} MB\".format(start_mem))\n",
    "\n",
    "  for col in df.columns:\n",
    "    if is_datetime(df[col]) or is_categorical_dtype(df[col]):\n",
    "      continue\n",
    "    col_type = df[col].dtype\n",
    "\n",
    "    if col_type != object:\n",
    "      c_min = df[col].min()\n",
    "      c_max = df[col].max()\n",
    "      if str(col_type)[:3] == \"int\":\n",
    "        if c_min > np.iinfo(np.int8).min and c_max < np.iinfo(np.int8).max:\n",
    "          df[col] = df[col].astype(np.int8)\n",
    "        elif c_min > np.iinfo(np.int16).min and c_max < np.iinfo(np.int16).max:\n",
    "          df[col] = df[col].astype(np.int16)\n",
    "        elif c_min > np.iinfo(np.int32).min and c_max < np.iinfo(np.int32).max:\n",
    "          df[col] = df[col].astype(np.int32)\n",
    "        elif c_min > np.iinfo(np.int64).min and c_max < np.iinfo(np.int64).max:\n",
    "          df[col] = df[col].astype(np.int64)\n",
    "      else:\n",
    "        if use_float16 and c_min > np.finfo(np.float16).min and c_max < np.finfo(np.float16).max:\n",
    "          df[col] = df[col].astype(np.float16)\n",
    "        elif c_min > np.finfo(np.float32).min and c_max < np.finfo(np.float32).max:\n",
    "          df[col] = df[col].astype(np.float32)\n",
    "        else:\n",
    "          df[col] = df[col].astype(np.float64)\n",
    "    else:\n",
    "      df[col] = df[col].astype(\"category\")\n",
    "\n",
    "  end_mem = df.memory_usage().sum() / 1024**2\n",
    "  print(\"Memory usage after optimization is: {:.2f} MB\".format(end_mem))\n",
    "  print(\"Decreased by {:.1f}%\".format(100 * (start_mem - end_mem) / start_mem))\n",
    "\n",
    "  return df"
   ]
  },
  {
   "cell_type": "code",
   "execution_count": 142,
   "metadata": {
    "colab": {
     "base_uri": "https://localhost:8080/"
    },
    "executionInfo": {
     "elapsed": 458,
     "status": "ok",
     "timestamp": 1667788052886,
     "user": {
      "displayName": "ZJ G",
      "userId": "11899905932610705110"
     },
     "user_tz": -480
    },
    "id": "_XP1Qlte_0N6",
    "outputId": "4d308881-1e19-4c2c-edab-1f119af69456",
    "pycharm": {
     "name": "#%%\n"
    }
   },
   "outputs": [
    {
     "name": "stdout",
     "output_type": "stream",
     "text": [
      "original train dataset size: 59872\n",
      "train dataset size: 49694\n"
     ]
    }
   ],
   "source": [
    "# 数据读取\n",
    "train = pd.read_csv('./data/dataTrain.csv')\n",
    "no_label = pd.read_csv('./data/dataNoLabel.csv')\n",
    "test = pd.read_csv('./data/dataA.csv')\n",
    "\n",
    "print(f'original train dataset size: {len(train)}')\n",
    "\n",
    "if True:\n",
    "  # 剔除最后1w个样本\n",
    "  train = train[:math.ceil(len(train)*0.83)]\n",
    "else:\n",
    "  # 剔除可能是假的样本\n",
    "  fake_rows = train[train['id'] > 170000].index.tolist()\n",
    "  train.drop(fake_rows, inplace=True)\n",
    "print(f'train dataset size: {len(train)}')"
   ]
  },
  {
   "cell_type": "code",
   "execution_count": 143,
   "metadata": {
    "id": "SUQyMw0s6DX4",
    "executionInfo": {
     "status": "ok",
     "timestamp": 1667788052886,
     "user_tz": -480,
     "elapsed": 2,
     "user": {
      "displayName": "ZJ G",
      "userId": "11899905932610705110"
     }
    },
    "pycharm": {
     "name": "#%%\n"
    }
   },
   "outputs": [],
   "source": [
    "# 类别特征列\n",
    "categorical_f = ['f1','f2','f3']\n",
    "categorical_f = []\n",
    "\n",
    "# 抛弃的特征列\n",
    "drop_f = ['f11','f16','f27','f28','f40','f41']\n",
    "# drop_f = []\n",
    "train.drop(drop_f, axis=1, inplace=True)\n",
    "test.drop(drop_f, axis=1, inplace=True)\n",
    "\n",
    "# 保留的原始特征列\n",
    "original_f = [i for i in train.columns if i not in ['id','label']]\n",
    "\n",
    "# 数据拼接\n",
    "data = pd.concat([train, test]).reset_index(drop=True)\n",
    "data['f3'] = data['f3'].map({'low': 0, 'mid': 100, 'high': 10000}) # 2 4 6"
   ]
  },
  {
   "cell_type": "code",
   "execution_count": 144,
   "metadata": {
    "id": "RTEAevGCIDMb",
    "executionInfo": {
     "status": "ok",
     "timestamp": 1667788052887,
     "user_tz": -480,
     "elapsed": 3,
     "user": {
      "displayName": "ZJ G",
      "userId": "11899905932610705110"
     }
    },
    "pycharm": {
     "name": "#%%\n"
    }
   },
   "outputs": [],
   "source": [
    "# 加入frequency编码\n",
    "if False:\n",
    "  for col in tqdm(original_f):\n",
    "    if col not in ['label', 'id']:\n",
    "      data[col + '_cnt'] = data[col].map(data[col].value_counts())\n",
    "  data.head()"
   ]
  },
  {
   "cell_type": "code",
   "execution_count": 145,
   "metadata": {
    "id": "U0i8ko8tQWw3",
    "executionInfo": {
     "status": "ok",
     "timestamp": 1667788052887,
     "user_tz": -480,
     "elapsed": 3,
     "user": {
      "displayName": "ZJ G",
      "userId": "11899905932610705110"
     }
    },
    "pycharm": {
     "name": "#%%\n"
    }
   },
   "outputs": [],
   "source": [
    "# 数据简单处理\n",
    "for i in original_f:\n",
    "  data[i] = data[i] + 1"
   ]
  },
  {
   "cell_type": "code",
   "execution_count": 146,
   "metadata": {
    "id": "fpjBqN3bCA4H",
    "executionInfo": {
     "status": "ok",
     "timestamp": 1667788053209,
     "user_tz": -480,
     "elapsed": 325,
     "user": {
      "displayName": "ZJ G",
      "userId": "11899905932610705110"
     }
    },
    "pycharm": {
     "name": "#%%\n"
    }
   },
   "outputs": [],
   "source": [
    "data['f1_f2'] = data['f1']*10 + data['f2']\n",
    "data['f4+f5+f6'] = data['f4'] + data['f5'] + data['f6']\n",
    "data['f4*f5*f6'] = data['f4'] * data['f5'] * data['f6']\n",
    "data['f4/f5/f6'] = data['f4'] / data['f5'] / data['f6']\n",
    "data['f4-f5-f6'] = data['f4'] - data['f5'] - data['f6']\n",
    "\n",
    "cf = ['f4', 'f5', 'f6']\n",
    "for i in range(len(cf)):\n",
    "  for j in range(i + 1, len(cf)):\n",
    "    data[f'{cf[i]}+{cf[j]}'] = data[cf[i]] + data[cf[j]]\n",
    "    data[f'{cf[i]}-{cf[j]}'] = data[cf[i]] - data[cf[j]]\n",
    "    data[f'{cf[i]}*{cf[j]}'] = data[cf[i]] * data[cf[j]]\n",
    "    data[f'{cf[i]}/{cf[j]}'] = data[cf[i]] / data[cf[j]]\n",
    "\n",
    "cf = ['f43', 'f44', 'f45', 'f46']\n",
    "for i in range(len(cf)):\n",
    "  for j in range(i + 1, len(cf)):\n",
    "    data[f'{cf[i]}+{cf[j]}'] = data[cf[i]] + data[cf[j]]\n",
    "    data[f'{cf[i]}-{cf[j]}'] = data[cf[i]] - data[cf[j]]\n",
    "    data[f'{cf[i]}*{cf[j]}'] = data[cf[i]] * data[cf[j]]\n",
    "    data[f'{cf[i]}/{cf[j]}'] = data[cf[i]] / data[cf[j]]\n",
    "\n",
    "cf = ['f13', 'f14']\n",
    "for i in range(len(cf)):\n",
    "  for j in range(i + 1, len(cf)):\n",
    "    data[f'{cf[i]}+{cf[j]}'] = data[cf[i]] + data[cf[j]]\n",
    "    data[f'{cf[i]}-{cf[j]}'] = data[cf[i]] - data[cf[j]]\n",
    "    data[f'{cf[i]}*{cf[j]}'] = data[cf[i]] * data[cf[j]]\n",
    "    data[f'{cf[i]}/{cf[j]}'] = data[cf[i]] / data[cf[j]]"
   ]
  },
  {
   "cell_type": "code",
   "execution_count": 147,
   "metadata": {
    "id": "l4Kl7d9dj3qc",
    "executionInfo": {
     "status": "ok",
     "timestamp": 1667788053210,
     "user_tz": -480,
     "elapsed": 2,
     "user": {
      "displayName": "ZJ G",
      "userId": "11899905932610705110"
     }
    },
    "pycharm": {
     "name": "#%%\n"
    }
   },
   "outputs": [],
   "source": [
    "cf = ['f26', 'f30']\n",
    "for i in range(len(cf)):\n",
    "  for j in range(i + 1, len(cf)):\n",
    "    data[f'{cf[i]}+{cf[j]}'] = data[cf[i]] + data[cf[j]]\n",
    "    data[f'{cf[i]}-{cf[j]}'] = data[cf[i]] - data[cf[j]]\n",
    "    data[f'{cf[i]}*{cf[j]}'] = data[cf[i]] * data[cf[j]]\n",
    "    data[f'{cf[i]}/{cf[j]}'] = data[cf[i]] / data[cf[j]]\n",
    "    data[f'{cf[i]}_{cf[j]}'] = data[cf[i]] * 1000 + data[cf[j]]\n",
    "\n",
    "cf = ['f25', 'f18']\n",
    "for i in range(len(cf)):\n",
    "  for j in range(i + 1, len(cf)):\n",
    "    data[f'{cf[i]}+{cf[j]}'] = data[cf[i]] + data[cf[j]]\n",
    "    data[f'{cf[i]}-{cf[j]}'] = data[cf[i]] - data[cf[j]]\n",
    "    data[f'{cf[i]}*{cf[j]}'] = data[cf[i]] * data[cf[j]]\n",
    "    data[f'{cf[i]}/{cf[j]}'] = data[cf[i]] / data[cf[j]]\n",
    "    data[f'{cf[i]}_{cf[j]}'] = data[cf[i]] * 1000 + data[cf[j]]\n",
    "\n",
    "cf = ['f13', 'f17']\n",
    "for i in range(len(cf)):\n",
    "  for j in range(i + 1, len(cf)):\n",
    "    data[f'{cf[i]}+{cf[j]}'] = data[cf[i]] + data[cf[j]]\n",
    "    data[f'{cf[i]}-{cf[j]}'] = data[cf[i]] - data[cf[j]]\n",
    "    data[f'{cf[i]}*{cf[j]}'] = data[cf[i]] * data[cf[j]]\n",
    "    data[f'{cf[i]}/{cf[j]}'] = data[cf[i]] / data[cf[j]]\n",
    "    data[f'{cf[i]}_{cf[j]}'] = data[cf[i]] * 1000 + data[cf[j]]\n",
    "\n",
    "cf = ['f30', 'f37']\n",
    "for i in range(len(cf)):\n",
    "  for j in range(i + 1, len(cf)):\n",
    "    data[f'{cf[i]}+{cf[j]}'] = data[cf[i]] + data[cf[j]]\n",
    "    data[f'{cf[i]}-{cf[j]}'] = data[cf[i]] - data[cf[j]]\n",
    "    data[f'{cf[i]}*{cf[j]}'] = data[cf[i]] * data[cf[j]]\n",
    "    data[f'{cf[i]}/{cf[j]}'] = data[cf[i]] / data[cf[j]]\n",
    "    data[f'{cf[i]}_{cf[j]}'] = data[cf[i]] * 1000 + data[cf[j]]\n",
    "\n",
    "cf = ['f18', 'f24']\n",
    "for i in range(len(cf)):\n",
    "  for j in range(i + 1, len(cf)):\n",
    "    data[f'{cf[i]}+{cf[j]}'] = data[cf[i]] + data[cf[j]]\n",
    "    data[f'{cf[i]}-{cf[j]}'] = data[cf[i]] - data[cf[j]]\n",
    "    data[f'{cf[i]}*{cf[j]}'] = data[cf[i]] * data[cf[j]]\n",
    "    data[f'{cf[i]}/{cf[j]}'] = data[cf[i]] / data[cf[j]]\n",
    "    data[f'{cf[i]}_{cf[j]}'] = data[cf[i]] * 1000 + data[cf[j]]\n",
    "\n",
    "cf = ['f18', 'f37']\n",
    "for i in range(len(cf)):\n",
    "  for j in range(i + 1, len(cf)):\n",
    "    data[f'{cf[i]}+{cf[j]}'] = data[cf[i]] + data[cf[j]]\n",
    "    data[f'{cf[i]}-{cf[j]}'] = data[cf[i]] - data[cf[j]]\n",
    "    data[f'{cf[i]}*{cf[j]}'] = data[cf[i]] * data[cf[j]]\n",
    "    data[f'{cf[i]}/{cf[j]}'] = data[cf[i]] / data[cf[j]]\n",
    "    data[f'{cf[i]}_{cf[j]}'] = data[cf[i]] * 1000 + data[cf[j]]\n",
    "\n",
    "cf = ['f19', 'f30']\n",
    "for i in range(len(cf)):\n",
    "  for j in range(i + 1, len(cf)):\n",
    "    data[f'{cf[i]}+{cf[j]}'] = data[cf[i]] + data[cf[j]]\n",
    "    data[f'{cf[i]}-{cf[j]}'] = data[cf[i]] - data[cf[j]]\n",
    "    data[f'{cf[i]}*{cf[j]}'] = data[cf[i]] * data[cf[j]]\n",
    "    data[f'{cf[i]}/{cf[j]}'] = data[cf[i]] / data[cf[j]]\n",
    "    data[f'{cf[i]}_{cf[j]}'] = data[cf[i]] * 1000 + data[cf[j]]\n",
    "\n",
    "cf = ['f23', 'f24', 'f30']\n",
    "for i in range(len(cf)):\n",
    "  for j in range(i + 1, len(cf)):\n",
    "    data[f'{cf[i]}+{cf[j]}'] = data[cf[i]] + data[cf[j]]\n",
    "    data[f'{cf[i]}-{cf[j]}'] = data[cf[i]] - data[cf[j]]\n",
    "    data[f'{cf[i]}*{cf[j]}'] = data[cf[i]] * data[cf[j]]\n",
    "    data[f'{cf[i]}/{cf[j]}'] = data[cf[i]] / data[cf[j]]\n",
    "    data[f'{cf[i]}_{cf[j]}'] = data[cf[i]] * 1000 + data[cf[j]]\n",
    "\n",
    "cf = ['f7', 'f8']\n",
    "for i in range(len(cf)):\n",
    "  for j in range(i + 1, len(cf)):\n",
    "    data[f'{cf[i]}+{cf[j]}'] = data[cf[i]] + data[cf[j]]\n",
    "    data[f'{cf[i]}-{cf[j]}'] = data[cf[i]] - data[cf[j]]\n",
    "    data[f'{cf[i]}*{cf[j]}'] = data[cf[i]] * data[cf[j]]\n",
    "    data[f'{cf[i]}/{cf[j]}'] = data[cf[i]] / data[cf[j]]\n",
    "    data[f'{cf[i]}_{cf[j]}'] = data[cf[i]] * 1000 + data[cf[j]]"
   ]
  },
  {
   "cell_type": "code",
   "execution_count": 148,
   "metadata": {
    "id": "3SKPXPVTfiyY",
    "executionInfo": {
     "status": "ok",
     "timestamp": 1667788053211,
     "user_tz": -480,
     "elapsed": 3,
     "user": {
      "displayName": "ZJ G",
      "userId": "11899905932610705110"
     }
    },
    "pycharm": {
     "name": "#%%\n"
    }
   },
   "outputs": [],
   "source": [
    "# 数据简单处理\n",
    "for i in original_f:\n",
    "  data[i] = data[i] - 1"
   ]
  },
  {
   "cell_type": "code",
   "execution_count": 149,
   "metadata": {
    "id": "hia8hqBdsLPP",
    "executionInfo": {
     "status": "ok",
     "timestamp": 1667788053625,
     "user_tz": -480,
     "elapsed": 417,
     "user": {
      "displayName": "ZJ G",
      "userId": "11899905932610705110"
     }
    },
    "pycharm": {
     "name": "#%%\n"
    }
   },
   "outputs": [],
   "source": [
    "# 内存压缩\n",
    "# reduce_mem_usage(data)\n",
    "\n",
    "# 训练测试分离\n",
    "train = data[~data['label'].isna()].reset_index(drop=True)\n",
    "test = data[data['label'].isna()].reset_index(drop=True)"
   ]
  },
  {
   "cell_type": "code",
   "execution_count": 150,
   "metadata": {
    "colab": {
     "base_uri": "https://localhost:8080/"
    },
    "executionInfo": {
     "elapsed": 31,
     "status": "ok",
     "timestamp": 1667788053625,
     "user": {
      "displayName": "ZJ G",
      "userId": "11899905932610705110"
     },
     "user_tz": -480
    },
    "id": "cqDEKnrXsJP7",
    "outputId": "c6dd6946-5323-4757-82d2-4fa85208a256",
    "pycharm": {
     "name": "#%%\n"
    }
   },
   "outputs": [
    {
     "name": "stdout",
     "output_type": "stream",
     "text": [
      "num featrues: 140\n"
     ]
    }
   ],
   "source": [
    "# 特征筛选\n",
    "features = [i for i in train.columns if i not in ['label', 'id']]\n",
    "print(f'num featrues: {len(features)}')"
   ]
  },
  {
   "cell_type": "code",
   "execution_count": 151,
   "metadata": {
    "colab": {
     "base_uri": "https://localhost:8080/"
    },
    "id": "AT4EcCd_Fm_9",
    "executionInfo": {
     "status": "ok",
     "timestamp": 1667788978510,
     "user_tz": -480,
     "elapsed": 924890,
     "user": {
      "displayName": "ZJ G",
      "userId": "11899905932610705110"
     }
    },
    "outputId": "6dc7ea3e-1c89-45aa-9923-24ac0705b1b5",
    "pycharm": {
     "name": "#%%\n"
    }
   },
   "outputs": [
    {
     "name": "stdout",
     "output_type": "stream",
     "text": [
      "- Fold: 1\n",
      "Training until validation scores don't improve for 1000 rounds\n",
      "[700]\ttraining's auc: 0.918014\tvalid_1's auc: 0.90951\n",
      "[1400]\ttraining's auc: 0.926821\tvalid_1's auc: 0.910882\n",
      "[2100]\ttraining's auc: 0.932813\tvalid_1's auc: 0.910988\n",
      "[2800]\ttraining's auc: 0.938161\tvalid_1's auc: 0.910709\n",
      "Early stopping, best iteration is:\n",
      "[1929]\ttraining's auc: 0.93143\tvalid_1's auc: 0.911087\n",
      "\n",
      "\n",
      "- Fold: 2\n",
      "Training until validation scores don't improve for 1000 rounds\n",
      "[700]\ttraining's auc: 0.918953\tvalid_1's auc: 0.905681\n",
      "[1400]\ttraining's auc: 0.927741\tvalid_1's auc: 0.907079\n",
      "[2100]\ttraining's auc: 0.933757\tvalid_1's auc: 0.907115\n",
      "[2800]\ttraining's auc: 0.939151\tvalid_1's auc: 0.906896\n",
      "Did not meet early stopping. Best iteration is:\n",
      "[3000]\ttraining's auc: 0.940555\tvalid_1's auc: 0.90683\n",
      "\n",
      "\n",
      "- Fold: 3\n",
      "Training until validation scores don't improve for 1000 rounds\n",
      "[700]\ttraining's auc: 0.917407\tvalid_1's auc: 0.913561\n",
      "[1400]\ttraining's auc: 0.926439\tvalid_1's auc: 0.914392\n",
      "[2100]\ttraining's auc: 0.932375\tvalid_1's auc: 0.914368\n",
      "[2800]\ttraining's auc: 0.937518\tvalid_1's auc: 0.914089\n",
      "Early stopping, best iteration is:\n",
      "[1810]\ttraining's auc: 0.9301\tvalid_1's auc: 0.914467\n",
      "\n",
      "\n",
      "- Fold: 4\n",
      "Training until validation scores don't improve for 1000 rounds\n",
      "[700]\ttraining's auc: 0.918279\tvalid_1's auc: 0.907487\n",
      "[1400]\ttraining's auc: 0.927266\tvalid_1's auc: 0.909083\n",
      "[2100]\ttraining's auc: 0.933636\tvalid_1's auc: 0.909234\n",
      "[2800]\ttraining's auc: 0.938824\tvalid_1's auc: 0.909012\n",
      "Did not meet early stopping. Best iteration is:\n",
      "[3000]\ttraining's auc: 0.940237\tvalid_1's auc: 0.908935\n",
      "\n",
      "\n",
      "- Fold: 5\n",
      "Training until validation scores don't improve for 1000 rounds\n",
      "[700]\ttraining's auc: 0.918226\tvalid_1's auc: 0.909096\n",
      "[1400]\ttraining's auc: 0.927116\tvalid_1's auc: 0.910392\n",
      "[2100]\ttraining's auc: 0.933658\tvalid_1's auc: 0.910708\n",
      "[2800]\ttraining's auc: 0.939045\tvalid_1's auc: 0.910483\n",
      "Did not meet early stopping. Best iteration is:\n",
      "[3000]\ttraining's auc: 0.940437\tvalid_1's auc: 0.910474\n",
      "\n",
      "\n",
      "\n",
      "acu: 0.910201783231\n"
     ]
    }
   ],
   "source": [
    "# 参数设定\n",
    "y = train['label']\n",
    "n_fold = 5;\n",
    "KF = StratifiedKFold(n_splits=n_fold, random_state=2023, shuffle=True)\n",
    "params = {\n",
    "  'objective': 'binary',\n",
    "  'boosting_type': 'gbdt',\n",
    "  'metric': 'auc',\n",
    "  'n_jobs': 30,\n",
    "  'learning_rate': 0.004,\n",
    "  'num_leaves': 31,\n",
    "  # 'num_leaves': 2 ** 6, # 太多效果不好\n",
    "  'max_depth': 6,\n",
    "  'tree_learner': 'serial',\n",
    "  'colsample_bytree': 0.8,\n",
    "  'subsample_freq': 1,\n",
    "  'subsample': 0.8,\n",
    "  'num_boost_round': 3000,\n",
    "  'max_bin': 255,\n",
    "  'verbose': -1,\n",
    "  'seed': 2022,\n",
    "  'bagging_seed': 2022,\n",
    "  'feature_fraction_seed': 2022,\n",
    "  'early_stopping_rounds': 1000\n",
    "}\n",
    "\n",
    "# 记录特征重要性\n",
    "feat_imp = pd.DataFrame({'feat': features, 'imp': 0})\n",
    "feat_gain = pd.DataFrame({'feat': features, 'gain': 0})\n",
    "\n",
    "oof_lgb = np.zeros(len(train))\n",
    "predictions_lgb = np.zeros((len(test)))\n",
    "\n",
    "# 模型训练\n",
    "for fold, (trn_idx, val_idx) in enumerate(KF.split(train.values, y.values)):\n",
    "  print(f'- Fold: {fold+1}')\n",
    "  trn_data = lgb.Dataset(train.iloc[trn_idx][features], label=y.iloc[trn_idx], categorical_feature=categorical_f)\n",
    "  val_data = lgb.Dataset(train.iloc[val_idx][features], label=y.iloc[val_idx], categorical_feature=categorical_f)\n",
    "  num_round = 3000\n",
    "  clf = lgb.train(\n",
    "    params,\n",
    "    trn_data,\n",
    "    num_round,\n",
    "    valid_sets=[trn_data, val_data],\n",
    "    verbose_eval=700,\n",
    "    early_stopping_rounds=100\n",
    "  )\n",
    "  print('\\n')\n",
    "\n",
    "  oof_lgb[val_idx] = clf.predict(train.iloc[val_idx][features], num_iteration=clf.best_iteration)\n",
    "  predictions_lgb[:] += clf.predict(test[features], num_iteration=clf.best_iteration) / n_fold\n",
    "\n",
    "  feat_imp['imp'] += clf.feature_importance() / n_fold\n",
    "  feat_gain['gain'] += clf.feature_importance(importance_type='gain') / n_fold\n",
    "\n",
    "auc = roc_auc_score(y, oof_lgb)\n",
    "print('\\nacu: %.12f' % auc)"
   ]
  },
  {
   "cell_type": "code",
   "execution_count": 152,
   "metadata": {
    "colab": {
     "base_uri": "https://localhost:8080/"
    },
    "id": "AMKBDns6ot9Z",
    "executionInfo": {
     "status": "ok",
     "timestamp": 1667788978511,
     "user_tz": -480,
     "elapsed": 16,
     "user": {
      "displayName": "ZJ G",
      "userId": "11899905932610705110"
     }
    },
    "outputId": "63aeb642-2e22-4e7e-9cba-e262fab2b2b8",
    "pycharm": {
     "name": "#%%\n"
    }
   },
   "outputs": [
    {
     "name": "stdout",
     "output_type": "stream",
     "text": [
      "11-09 10:08\n"
     ]
    }
   ],
   "source": [
    "import time\n",
    "import datetime\n",
    "import pytz as pytz\n",
    "tz = pytz.timezone('Asia/Shanghai')\n",
    "t = datetime.datetime.fromtimestamp(int(time.time()), tz).strftime('%m-%d %H:%M')\n",
    "print(t)"
   ]
  },
  {
   "cell_type": "code",
   "execution_count": 153,
   "metadata": {
    "id": "f-yDuDEULe7M",
    "executionInfo": {
     "status": "ok",
     "timestamp": 1667788978511,
     "user_tz": -480,
     "elapsed": 4,
     "user": {
      "displayName": "ZJ G",
      "userId": "11899905932610705110"
     }
    },
    "pycharm": {
     "name": "#%%\n"
    }
   },
   "outputs": [],
   "source": [
    "# 导出预测结果\n",
    "test['label'] = predictions_lgb\n",
    "test[['id', 'label']].to_csv(f'./{auc}.csv', index=False)"
   ]
  },
  {
   "cell_type": "code",
   "execution_count": 154,
   "metadata": {
    "id": "jvx-jW7FA29j",
    "executionInfo": {
     "status": "ok",
     "timestamp": 1667788978511,
     "user_tz": -480,
     "elapsed": 3,
     "user": {
      "displayName": "ZJ G",
      "userId": "11899905932610705110"
     }
    },
    "pycharm": {
     "name": "#%%\n"
    }
   },
   "outputs": [],
   "source": [
    "feat_imp = feat_imp.sort_values(by='imp', ascending=False)\n",
    "feat_imp.to_csv('f_importance.csv', index=False)\n",
    "\n",
    "feat_gain = feat_gain.sort_values(by='gain', ascending=False)\n",
    "feat_gain.to_csv( 'f_gain.csv', index=False)"
   ]
  },
  {
   "cell_type": "code",
   "execution_count": 155,
   "metadata": {
    "colab": {
     "base_uri": "https://localhost:8080/",
     "height": 374
    },
    "id": "KxV3cqRqfwDv",
    "executionInfo": {
     "status": "ok",
     "timestamp": 1667788979156,
     "user_tz": -480,
     "elapsed": 648,
     "user": {
      "displayName": "ZJ G",
      "userId": "11899905932610705110"
     }
    },
    "outputId": "645c0d0a-9ddd-4d39-b620-e5286c6315fb",
    "pycharm": {
     "name": "#%%\n"
    }
   },
   "outputs": [
    {
     "data": {
      "text/plain": "<Figure size 900x600 with 1 Axes>",
      "image/png": "[encoded data removed]"
     },
     "metadata": {},
     "output_type": "display_data"
    }
   ],
   "source": [
    "col = test['label']\n",
    "plt.figure(figsize=(9,6))\n",
    "x_major_locator=MultipleLocator(0.05)\n",
    "y_major_locator=MultipleLocator(0.05)\n",
    "ax=plt.gca()\n",
    "ax.xaxis.set_major_locator(x_major_locator)\n",
    "ax.yaxis.set_major_locator(y_major_locator)\n",
    "plt.hist(col, bins=20, rwidth=0.5, weights=np.ones(len(col)) / len(col))\n",
    "plt.gca().yaxis.set_major_formatter(PercentFormatter(1))"
   ]
  },
  {
   "cell_type": "code",
   "execution_count": 156,
   "metadata": {
    "colab": {
     "base_uri": "https://localhost:8080/"
    },
    "id": "ONkFOQ4fL4Rv",
    "executionInfo": {
     "status": "ok",
     "timestamp": 1667789281961,
     "user_tz": -480,
     "elapsed": 363,
     "user": {
      "displayName": "ZJ G",
      "userId": "11899905932610705110"
     }
    },
    "outputId": "be1d6556-d2c8-4774-b210-47c92a700bda",
    "pycharm": {
     "name": "#%%\n"
    }
   },
   "outputs": [
    {
     "name": "stdout",
     "output_type": "stream",
     "text": [
      ">0.95 2048\n",
      ">0.96 1194\n",
      ">0.97 471\n",
      ">0.98 48\n"
     ]
    }
   ],
   "source": [
    "idx = test['label'] > 0.95\n",
    "print(f'>0.95 {len(test[idx])}')\n",
    "\n",
    "idx = test['label'] > 0.96\n",
    "print(f'>0.96 {len(test[idx])}')\n",
    "\n",
    "idx = test['label'] > 0.97\n",
    "print(f'>0.97 {len(test[idx])}')\n",
    "\n",
    "idx = test['label'] > 0.98\n",
    "print(f'>0.98 {len(test[idx])}')"
   ]
  },
  {
   "cell_type": "code",
   "execution_count": 157,
   "metadata": {
    "id": "b3nis3MrPVkv",
    "executionInfo": {
     "status": "ok",
     "timestamp": 1667788979157,
     "user_tz": -480,
     "elapsed": 5,
     "user": {
      "displayName": "ZJ G",
      "userId": "11899905932610705110"
     }
    },
    "pycharm": {
     "name": "#%%\n"
    }
   },
   "outputs": [],
   "source": [
    "if False:\n",
    "  test_cpy = test.copy()\n",
    "  threshold = 0.96\n",
    "  idx = test_cpy['label'] > threshold\n",
    "  print(f'{len(test_cpy[idx])}')\n",
    "  test_cpy.loc[idx, 'label'] = threshold\n",
    "  \n",
    "  test_cpy[['id', 'label']].to_csv('./%.12f_truncated%.2f.csv' % (auc, threshold), index=False)"
   ]
  },
  {
   "cell_type": "code",
   "source": [
    "if True:\n",
    "  test_cpy = test.copy()\n",
    "  test_cpy['label'] = test_cpy['label'] * 1.0001\n",
    "  test_cpy[['id', 'label']].to_csv('./%.12f_shifted%.7f.csv' % (auc, 1.0001), index=False)"
   ],
   "metadata": {
    "id": "XxeCg-cA5kp3",
    "executionInfo": {
     "status": "ok",
     "timestamp": 1667788979477,
     "user_tz": -480,
     "elapsed": 324,
     "user": {
      "displayName": "ZJ G",
      "userId": "11899905932610705110"
     }
    },
    "pycharm": {
     "name": "#%%\n"
    }
   },
   "execution_count": 158,
   "outputs": []
  }
 ],
 "metadata": {
  "colab": {
   "collapsed_sections": [],
   "provenance": []
  },
  "kernelspec": {
   "display_name": "Python 3",
   "name": "python3"
  },
  "language_info": {
   "name": "python"
  }
 },
 "nbformat": 4,
 "nbformat_minor": 0
}