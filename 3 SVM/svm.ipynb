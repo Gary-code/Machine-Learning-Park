{
 "cells": [
  {
   "cell_type": "markdown",
   "metadata": {
    "collapsed": true,
    "pycharm": {
     "name": "#%% md\n"
    }
   },
   "source": [
    "# 支持向量机\n",
    "> SVM\n",
    ">\n",
    "> * numpy 实现\n",
    ">\n",
    "> * 继续采用a9a.txt中的数据\n",
    ">\n",
    "> * 本次使用sklearn的工具包来完成"
   ]
  },
  {
   "cell_type": "code",
   "source": [
    "import numpy as np\n",
    "from matplotlib import pyplot as plt\n",
    "from sklearn.datasets import load_svmlight_file\n",
    "from sklearn.metrics import classification_report, accuracy_score\n",
    "from sklearn import svm"
   ],
   "metadata": {
    "collapsed": false,
    "pycharm": {
     "name": "#%%\n"
    }
   },
   "execution_count": 1,
   "outputs": []
  },
  {
   "cell_type": "markdown",
   "source": [
    "## 读取数据 + 简单预处理"
   ],
   "metadata": {
    "collapsed": false,
    "pycharm": {
     "name": "#%% md\n"
    }
   }
  },
  {
   "cell_type": "code",
   "execution_count": 2,
   "outputs": [],
   "source": [
    "x_val, y_val = load_svmlight_file('./a9a.txt', n_features=123)  # 验证集\n",
    "x_train, y_train = load_svmlight_file('./a9a_train.txt', n_features=123)  # 训练集\n",
    "\n",
    "# 类型标签-1 变成 0，方便损失函数计算\n",
    "y_train[y_train == -1] = 0\n",
    "y_val[y_val == -1] = 0\n",
    "\n",
    "x_train = np.array(x_train.todense())\n",
    "x_test = np.array(x_val.todense())\n",
    "y_train = np.array(y_train).reshape(len(y_train), )\n",
    "y_test = np.array(y_val).reshape(len(y_val), )\n",
    "\n",
    "b = np.ones(x_train.shape[0])\n",
    "x_train = np.insert(x_train, 123, values=b, axis=1)\n",
    "\n",
    "b = np.ones(x_test.shape[0])\n",
    "x_test = np.insert(x_test, 123, values=b, axis=1)\n",
    "\n",
    "theta = np.random.normal(size=(x_train.shape[1], ))"
   ],
   "metadata": {
    "collapsed": false,
    "pycharm": {
     "name": "#%%\n"
    }
   }
  },
  {
   "cell_type": "markdown",
   "source": [
    "## 功能函数"
   ],
   "metadata": {
    "collapsed": false,
    "pycharm": {
     "name": "#%% md\n",
     "is_executing": true
    }
   }
  },
  {
   "cell_type": "code",
   "execution_count": 3,
   "outputs": [],
   "source": [
    "def plot_hyperplane(clf, X, y,\n",
    "                    h=0.02,\n",
    "                    draw_sv=True,\n",
    "                    title='hyperplan'):\n",
    "    \"\"\"画图\"\"\"\n",
    "    # create a mesh to plot in\n",
    "    x_min, x_max = X[:, 0].min() - 1, X[:, 0].max() + 1\n",
    "    y_min, y_max = X[:, 1].min() - 1, X[:, 1].max() + 1\n",
    "    xx, yy = np.meshgrid(np.arange(x_min, x_max, h),\n",
    "                         np.arange(y_min, y_max, h))\n",
    "    plt.title(title)\n",
    "    plt.xlim(xx.min(), xx.max())\n",
    "    plt.ylim(yy.min(), yy.max())\n",
    "    plt.xticks(())\n",
    "    plt.yticks(())\n",
    "\n",
    "    Z = clf.predict(np.c_[xx.ravel(), yy.ravel()])\n",
    "    # Put the result into a color plot\n",
    "    Z = Z.reshape(xx.shape)\n",
    "    plt.contourf(xx, yy, Z, cmap='hot', alpha=0.5)\n",
    "\n",
    "    markers = ['o', 's', '^']\n",
    "    colors = ['b', 'r', 'c']\n",
    "    labels = np.unique(y)\n",
    "    for label in labels:\n",
    "        plt.scatter(X[y==label][:, 0],\n",
    "                    X[y==label][:, 1],\n",
    "                    c=colors[label],\n",
    "                    marker=markers[label])\n",
    "    if draw_sv:\n",
    "        sv = clf.support_vectors_\n",
    "        plt.scatter(sv[:, 0], sv[:, 1], c='y', marker='x')\n",
    "\n"
   ],
   "metadata": {
    "collapsed": false,
    "pycharm": {
     "name": "#%%\n"
    }
   }
  },
  {
   "cell_type": "markdown",
   "source": [
    "## 功能函数"
   ],
   "metadata": {
    "collapsed": false,
    "pycharm": {
     "name": "#%% md\n"
    }
   }
  },
  {
   "cell_type": "code",
   "execution_count": 4,
   "outputs": [],
   "source": [
    "def training_svm(x_train, x_test, y_train, y_test):\n",
    "    \"\"\"训练函数\"\"\"\n",
    "    clf = svm.SVC(C=1.0, kernel='rbf', gamma=0.5)  # 选择高斯核函数\n",
    "    clf.fit(x_train, y_train)  # 开始训练\n",
    "\n",
    "    print('系数:%s \\n\\n偏置量 %s' % (clf.coef_, clf.intercept_))  # 参数值\n",
    "\n",
    "    print('\\n\\n评分: %.2f' % clf.score(x_test, y_test))  # 评分\n",
    "    predictions = clf.predict(x_test)  # 预测\n",
    "    print(classification_report(y_test, predictions))  # 打印预测报告\n",
    "    print(\"准确度\", accuracy_score(y_test, predictions))  # 准确度\n",
    "\n",
    "    # 画图打印\n",
    "    plt.figure(figsize=(10, 10), dpi=144)\n",
    "    plot_hyperplane(clf, x_test, y_test, title=\"高斯核函数\")\n"
   ],
   "metadata": {
    "collapsed": false,
    "pycharm": {
     "name": "#%%\n"
    }
   }
  },
  {
   "cell_type": "markdown",
   "source": [
    "## 开始训练"
   ],
   "metadata": {
    "collapsed": false,
    "pycharm": {
     "name": "#%% md\n",
     "is_executing": true
    }
   }
  },
  {
   "cell_type": "code",
   "execution_count": null,
   "outputs": [],
   "source": [
    "training_svm(x_train, x_val, y_train, y_test)"
   ],
   "metadata": {
    "collapsed": false,
    "pycharm": {
     "name": "#%%\n",
     "is_executing": true
    }
   }
  }
 ],
 "metadata": {
  "kernelspec": {
   "display_name": "Python 3",
   "language": "python",
   "name": "python3"
  },
  "language_info": {
   "codemirror_mode": {
    "name": "ipython",
    "version": 2
   },
   "file_extension": ".py",
   "mimetype": "text/x-python",
   "name": "python",
   "nbconvert_exporter": "python",
   "pygments_lexer": "ipython2",
   "version": "2.7.6"
  }
 },
 "nbformat": 4,
 "nbformat_minor": 0
}