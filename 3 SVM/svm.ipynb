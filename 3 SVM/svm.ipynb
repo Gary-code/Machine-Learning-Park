{
 "cells": [
  {
   "cell_type": "markdown",
   "metadata": {
    "collapsed": true,
    "pycharm": {
     "name": "#%% md\n"
    }
   },
   "source": [
    "# 支持向量机\n",
    "> SVM\n",
    ">\n",
    "> * numpy 实现\n",
    ">\n",
    "> * 继续采用a9a.txt中的数据\n",
    ">\n",
    "> * 本次使用sklearn的工具包来完成"
   ]
  },
  {
   "cell_type": "code",
   "source": [
    "import numpy as np\n",
    "from matplotlib import pyplot as plt\n",
    "from sklearn.datasets import load_svmlight_file\n",
    "from sklearn.metrics import classification_report, accuracy_score\n",
    "from sklearn import svm"
   ],
   "metadata": {
    "collapsed": false,
    "pycharm": {
     "name": "#%%\n"
    }
   },
   "execution_count": 34,
   "outputs": []
  },
  {
   "cell_type": "markdown",
   "source": [
    "## 读取数据 + 简单预处理"
   ],
   "metadata": {
    "collapsed": false,
    "pycharm": {
     "name": "#%% md\n"
    }
   }
  },
  {
   "cell_type": "code",
   "execution_count": 35,
   "outputs": [],
   "source": [
    "l = 1000\n",
    "x_val, y_val = load_svmlight_file('./a9a.txt', n_features=123)  # 验证集\n",
    "x_train, y_train = load_svmlight_file('./a9a_train.txt', n_features=123)  # 训练集\n",
    "\n",
    "\n",
    "# 类型标签-1 变成 0，方便损失函数计算\n",
    "y_train[y_train == -1] = 0\n",
    "y_val[y_val == -1] = 0\n"
   ],
   "metadata": {
    "collapsed": false,
    "pycharm": {
     "name": "#%%\n"
    }
   }
  },
  {
   "cell_type": "code",
   "execution_count": 36,
   "outputs": [],
   "source": [
    "x_train = np.array(x_train.todense())\n",
    "x_val = np.array(x_val.todense())\n",
    "y_train = np.array(y_train).reshape(len(y_train), )\n",
    "y_val = np.array(y_val).reshape(len(y_val), )\n",
    "\n",
    "b = np.ones(x_train.shape[0])\n",
    "x_train = np.insert(x_train, 123, values=b, axis=1)\n",
    "\n",
    "b = np.ones(x_val.shape[0])\n",
    "x_val = np.insert(x_val, 123, values=b, axis=1)\n",
    "\n",
    "theta = np.random.normal(size=(x_train.shape[1], ))"
   ],
   "metadata": {
    "collapsed": false,
    "pycharm": {
     "name": "#%%\n"
    }
   }
  },
  {
   "cell_type": "markdown",
   "source": [
    "## 功能函数"
   ],
   "metadata": {
    "collapsed": false,
    "pycharm": {
     "name": "#%% md\n",
     "is_executing": true
    }
   }
  },
  {
   "cell_type": "code",
   "execution_count": 37,
   "outputs": [],
   "source": [
    "def training_svm(x_train, x_test, y_train, y_test):\n",
    "    \"\"\"训练函数\"\"\"\n",
    "    clf = svm.SVC(C=1.0, kernel='rbf', gamma=0.5)  # 选择高斯核函数\n",
    "    clf.fit(x_train, y_train)  # 开始训练\n",
    "\n",
    "    # print('系数:%s \\n\\n偏置量 %s' % (clf.coef_, clf.intercept_))  # 参数值\n",
    "\n",
    "    print('\\n\\n评分: %.2f' % clf.score(x_test, y_test))  # 评分\n",
    "    predictions = clf.predict(x_test)  # 预测\n",
    "    print(classification_report(y_test, predictions))  # 打印预测报告\n",
    "    print(\"准确度\", accuracy_score(y_test, predictions))  # 准确度\n"
   ],
   "metadata": {
    "collapsed": false,
    "pycharm": {
     "name": "#%%\n"
    }
   }
  },
  {
   "cell_type": "markdown",
   "source": [
    "## 开始训练"
   ],
   "metadata": {
    "collapsed": false,
    "pycharm": {
     "name": "#%% md\n"
    }
   }
  },
  {
   "cell_type": "code",
   "execution_count": null,
   "outputs": [],
   "source": [
    "training_svm(x_train, x_val, y_train, y_val)"
   ],
   "metadata": {
    "collapsed": false,
    "pycharm": {
     "name": "#%%\n",
     "is_executing": true
    }
   }
  }
 ],
 "metadata": {
  "kernelspec": {
   "display_name": "Python 3",
   "language": "python",
   "name": "python3"
  },
  "language_info": {
   "codemirror_mode": {
    "name": "ipython",
    "version": 2
   },
   "file_extension": ".py",
   "mimetype": "text/x-python",
   "name": "python",
   "nbconvert_exporter": "python",
   "pygments_lexer": "ipython2",
   "version": "2.7.6"
  }
 },
 "nbformat": 4,
 "nbformat_minor": 0
}